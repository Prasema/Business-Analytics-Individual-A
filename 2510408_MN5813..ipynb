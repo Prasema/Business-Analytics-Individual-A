{
 "cells": [
  {
   "cell_type": "markdown",
   "metadata": {},
   "source": [
    "# Economic Growth and Workforce Needs: A Data-Driven Analysis of LinkedIn Job Postings "
   ]
  },
  {
   "cell_type": "markdown",
   "metadata": {},
   "source": [
    "| GROUP                 | [ADD GROUP NUMBER HERE] |\n",
    "| --------------------- | ----------------------- |\n",
    "| Level                 | 7 (Postgraduate)        |\n",
    "| Course name           | MSc Business Analytics  |\n",
    "| Module code           | MN5813                  |\n",
    "| Module tutor          | Alex Reppel             |\n",
    "| Assignment number     | Individual Assignment   |\n"
   ]
  },
  {
   "cell_type": "markdown",
   "metadata": {},
   "source": [
    "| Candidate number(s)    |\n",
    "| ---------------------- |\n",
    "| 2510408                |"
   ]
  },
  {
   "cell_type": "markdown",
   "metadata": {},
   "source": [
    "### Click this link for accessing the Jupyter Notebook py file : "
   ]
  },
  {
   "cell_type": "markdown",
   "metadata": {},
   "source": [
    "### Generative AI"
   ]
  },
  {
   "cell_type": "markdown",
   "metadata": {},
   "source": [
    "**AI Statement**\n",
    "\n",
    "I was in charge of all data cleaning, wrangling, and analysis for this project, including organising the data using MultiIndex. To visualise the insights, I used Seaborn, Plotly, and tiny multiples. Because every analysis step was carried out by hand, human error in decision-making was guaranteed. Although AI techniques were utilised to optimise the code and increase efficiency, human intelligence made the ultimate decisions and interpreted the results, guaranteeing that the conclusions were sound and pertinent to the project's goals.\n",
    "\n"
   ]
  },
  {
   "cell_type": "markdown",
   "metadata": {},
   "source": [
    "## Introduction"
   ]
  },
  {
   "cell_type": "markdown",
   "metadata": {},
   "source": [
    "A multitude of interconnected economic, social, and technical forces have moulded the global employment market, which is a complex ecosystem. The economic development of countries, which is frequently gauged by GDP, lies at the centre of this landscape. Gaining knowledge about how GDP and employment possibilities are related might help one better understand how economic success affects employment distribution and availability. Simultaneously, work skills have rapidly evolved, with regional variations due to technology improvements and changing societal needs. Furthermore, the influence of large corporations on employment patterns has grown in importance due to their recruitment tactics and the amount of job advertisements they post. We can learn more about how employment trends are changing globally by investigating these issues.\n",
    "\n",
    "This study explores the complex relationships that exist between a country's economics, the need for particular job skills, and the employment prospects offered by top businesses. Through the analysis of several datasets, we want to find trends that will not only show whether nations with greater GDPs have more job openings, but also whose job skills are most in-demand in various geographical areas and which firms will be driving hiring in 2024. The results will not only give a more accurate picture of the labour market today, but they will also give employers and job seekers useful information to help them match their recruiting practices with international trends.\n",
    "\n",
    "Three main goals will be the focus of the investigation, each of which aims to investigate a distinct aspect of the labour market:\n",
    "\n",
    "## Objectives:\n",
    "1. **GDP and Job Postings Analysis**:  \n",
    "  The relationship between the GDP of various nations and the number of job posts in certain areas will be examined in this aim. We will determine which nation has the greatest GDP in order to examine whether more jobs are available as a result of a higher GDP. Policymakers and job searchers may better grasp the relationship between employment prospects and national economic growth by using the insightful information this study will offer on whether economic output and job availability are closely correlated.\n",
    "   \n",
    "   \n",
    "\n",
    "2. **Demanded Job Skills by Country**:  \n",
    "   Examining the job abilities that are most in demand in various nations will be the second goal. We will examine the data from job advertisements to find patterns in the abilities that companies in different areas need. A thorough understanding of the changing skill sets that job seekers must acquire to be competitive in the global labour market will be provided by this research. In order to assist people and organisations better prepare for the evolving nature of work, the study will also provide insight into regional differences in skill need.\n",
    "\n",
    "\n",
    "\n",
    "3. **Top Companies by Job Postings in 2024**:  \n",
    "  Finding the businesses that have submitted the most job listings in 2024 is the third goal. The main actors in the hiring market will be highlighted in this section of the investigation, which will also help us comprehend the businesses that are creating job openings. We can identify trends in hiring practices and labour needs by looking at the sectors and companies that are creating the most jobs. This gives firms a better picture of the competitive job market.\n",
    "  \n",
    "With the help of these three goals, the study seeks to present a thorough examination of the global labour market, emphasising the interactions among hiring patterns, job skill requirements, and economic performance. By revealing these facts, the study will advance knowledge of the factors influencing the labour market today and in the future and offer helpful advice to companies and job seekers navigating this ever-changing landscape.\n",
    "\n",
    "Since this research is based on a comprehensive dataset of all LinkedIn job postings submitted by companies throughout 2024, it offers a highly accurate and up-to-date reflection of the current labor market trends. The analysis leverages real-time data, ensuring that the insights derived are not only relevant but also representative of the latest shifts and patterns in global job opportunities, skill demands, and hiring practices. This approach enhances the reliability and applicability of the findings, providing a robust foundation for understanding the evolving job market dynamics in 2024."
   ]
  },
  {
   "cell_type": "markdown",
   "metadata": {},
   "source": [
    "## Tools and Methodologies\n",
    "\n",
    "In this project, several tools and methodologies were employed to ensure robust data analysis and visualization. Below is an overview of the key tools and methods used:\n",
    "\n",
    "### 1. **Data Collection**\n",
    "   - **Totally three datasets were used in this project**, derived all three datasets from https://www.kaggle.com/datasets\n",
    "\n",
    "### 2. **Data Cleaning and Wrangling**\n",
    "   - **Pandas**: Pandas was the primary tool for data cleaning and wrangling. We used Pandas to handle missing values, convert data types, remove duplicates, and preprocess the data for further analysis. Specifically, **MultiIndex**, as taught in the course material, was used for advanced data organization. This technique allowed us to aggregate data effectively, enabling the handling of hierarchical data structures and facilitating easier manipulation of data at multiple levels.\n",
    "\n",
    "### 3. **Data Analysis**\n",
    "   - **Python**: The core of our analysis was performed using Python, particularly leveraging libraries like Pandas  to perform statistical and aggregative operations.\n",
    "\n",
    "### 4. **Data Visualization**\n",
    "   - **Seaborn**: Seaborn was utilized to create statistical visualizations, providing a higher-level interface for drawing attractive and informative graphics. It helped to represent the distribution of job postings and other insights through clear, easy-to-understand charts.\n",
    "\n",
    "   - **Small Multiples**: This visualization technique was employed using Seaborn, where we used multiple smaller plots to show variations in Top Job postings based on Top GDP countries. It helped in comparing data across different categories without overwhelming the viewer with a single large plot.\n",
    "   \n",
    "   - **Plotly**: Plotly was used to create interactive visualizations, such as bar charts, to present the relationships between countries, GDP, job postings, and company-specific data. Plotly’s ability to generate interactive, web-based graphics allowed for better exploration of the data.\n",
    "   \n",
    "### 5. **Exporting Data**\n",
    "   - **Jupyter Notebook**: The entire analysis and report were conducted within Jupyter Notebook, which provided an interactive environment for combining code, analysis, and visualizations in one document. Jupyter Notebook facilitated the step-by-step explanation of the processes and methodologies used in this project.\n",
    "   \n",
    "   \n",
    "   - **Github**: All the visualizations, original dataset, and cleaned datasets were exported and documented on Github. This ensured that the project was reproducible and transparent, allowing others to access the datasets, review the code, and explore the visualizations independently.\n",
    " \n",
    "\n",
    "\n"
   ]
  },
  {
   "cell_type": "markdown",
   "metadata": {},
   "source": [
    "#### Explnation of the code will be taken place before each module of this report"
   ]
  },
  {
   "cell_type": "markdown",
   "metadata": {},
   "source": [
    "## Setup"
   ]
  },
  {
   "cell_type": "markdown",
   "metadata": {},
   "source": [
    "### Importing necessary libraries needed for this report"
   ]
  },
  {
   "cell_type": "markdown",
   "metadata": {},
   "source": [
    "   - **Warnings Module**: During the visualization phase, especially when working with Plotly and Seaborn, several warnings were being generated in the output, which could potentially clutter the workspace. To manage this, the `warnings` module was imported. \n",
    "   \n",
    "   By using `warnings.filterwarnings('ignore')`, I was able to suppress these warnings, ensuring that the visualizations and results were presented clearly without distractions. This practice helped maintain a clean output and focused the attention on the key results rather than non-critical messages from the libraries.\n"
   ]
  },
  {
   "cell_type": "code",
   "execution_count": 41,
   "metadata": {},
   "outputs": [],
   "source": [
    "import pandas as pd\n",
    "import dask.dataframe as dd\n",
    "from matplotlib.colors import LinearSegmentedColormap\n",
    "import plotly.express as px\n",
    "import numpy as np\n",
    "import seaborn as sns\n",
    "import warnings\n",
    "warnings.filterwarnings(\"ignore\")\n"
   ]
  },
  {
   "cell_type": "markdown",
   "metadata": {},
   "source": [
    "### Load data\n",
    "\n",
    "   - **Job_Postings_data**: This dataset contains job postings information across different countries, including details such as company names, job titles, and more. It was loaded into the project for the analysis of job availability by country and the identification of the most demanded job roles. \n",
    "   \n",
    "   \n",
    "   - **GDP_data**: The GDP data includes economic information on various countries, showcasing their Gross Domestic Product values. This dataset was used to analyze the correlation between GDP and job postings, helping us understand whether countries with higher economic output offer more job opportunities.\n",
    "   \n",
    "   \n",
    "   - **Industry_data**: The Industry data provides insights into job skill demands across different industries and regions. It was used to identify the most demanded job skills in various countries. \n",
    "   \n",
    "   \n",
    "   All three datasets were loaded directly from the GitHub repository into the Jupyter Notebook for further processing and analysis.\n"
   ]
  },
  {
   "cell_type": "code",
   "execution_count": 42,
   "metadata": {},
   "outputs": [],
   "source": [
    "Job_Postings_data = pd.read_csv('https://raw.githubusercontent.com/Prasema/Business-Analytics-Individual-A/refs/heads/main/Job_Postings.csv')\n",
    "\n",
    "# Load the second dataset (e.g., COVID-19 USA Hospital Data)\n",
    "GDP_data = pd.read_csv('https://raw.githubusercontent.com/Prasema/Business-Analytics-Individual-A/refs/heads/main/GDP.csv')\n",
    "# Load the third dataset (if any, e.g., a healthcare dataset)\n",
    "Industry_data = pd.read_csv('https://raw.githubusercontent.com/Prasema/Business-Analytics-Individual-A/refs/heads/main/Industry.csv')\n"
   ]
  },
  {
   "cell_type": "markdown",
   "metadata": {},
   "source": [
    "### Convert into DataFrame"
   ]
  },
  {
   "cell_type": "code",
   "execution_count": 43,
   "metadata": {},
   "outputs": [],
   "source": [
    "Job_Postings_df = pd.DataFrame(Job_Postings_data)\n",
    "GDP_df = pd.DataFrame(GDP_data)\n",
    "Industry_df = pd.DataFrame(Industry_data)\n"
   ]
  },
  {
   "cell_type": "markdown",
   "metadata": {},
   "source": [
    "Display the first few rows and basic information about the DataFrame `df` you have created from `data_source`."
   ]
  },
  {
   "cell_type": "code",
   "execution_count": 44,
   "metadata": {},
   "outputs": [
    {
     "data": {
      "text/html": [
       "<div>\n",
       "<style scoped>\n",
       "    .dataframe tbody tr th:only-of-type {\n",
       "        vertical-align: middle;\n",
       "    }\n",
       "\n",
       "    .dataframe tbody tr th {\n",
       "        vertical-align: top;\n",
       "    }\n",
       "\n",
       "    .dataframe thead th {\n",
       "        text-align: right;\n",
       "    }\n",
       "</style>\n",
       "<table border=\"1\" class=\"dataframe\">\n",
       "  <thead>\n",
       "    <tr style=\"text-align: right;\">\n",
       "      <th></th>\n",
       "      <th>job_link</th>\n",
       "      <th>last_processed_time</th>\n",
       "      <th>got_summary</th>\n",
       "      <th>got_ner</th>\n",
       "      <th>is_being_worked</th>\n",
       "      <th>job_title</th>\n",
       "      <th>company</th>\n",
       "      <th>job_location</th>\n",
       "      <th>first_seen</th>\n",
       "      <th>search_city</th>\n",
       "      <th>search_country</th>\n",
       "      <th>search_position</th>\n",
       "      <th>job_level</th>\n",
       "      <th>job_type</th>\n",
       "    </tr>\n",
       "  </thead>\n",
       "  <tbody>\n",
       "    <tr>\n",
       "      <th>0</th>\n",
       "      <td>https://www.linkedin.com/jobs/view/account-exe...</td>\n",
       "      <td>2024-01-21 07:12:29.00256+00</td>\n",
       "      <td>t</td>\n",
       "      <td>t</td>\n",
       "      <td>f</td>\n",
       "      <td>Account Executive - Dispensing (NorCal/Norther...</td>\n",
       "      <td>BD</td>\n",
       "      <td>San Diego, CA</td>\n",
       "      <td>2024-01-15</td>\n",
       "      <td>Coronado</td>\n",
       "      <td>United States</td>\n",
       "      <td>Color Maker</td>\n",
       "      <td>Mid senior</td>\n",
       "      <td>Onsite</td>\n",
       "    </tr>\n",
       "    <tr>\n",
       "      <th>1</th>\n",
       "      <td>https://www.linkedin.com/jobs/view/registered-...</td>\n",
       "      <td>2024-01-21 07:39:58.88137+00</td>\n",
       "      <td>t</td>\n",
       "      <td>t</td>\n",
       "      <td>f</td>\n",
       "      <td>Registered Nurse - RN Care Manager</td>\n",
       "      <td>Trinity Health MI</td>\n",
       "      <td>Norton Shores, MI</td>\n",
       "      <td>2024-01-14</td>\n",
       "      <td>Grand Haven</td>\n",
       "      <td>United States</td>\n",
       "      <td>Director Nursing Service</td>\n",
       "      <td>Mid senior</td>\n",
       "      <td>Onsite</td>\n",
       "    </tr>\n",
       "    <tr>\n",
       "      <th>2</th>\n",
       "      <td>https://www.linkedin.com/jobs/view/restaurant-...</td>\n",
       "      <td>2024-01-21 07:40:00.251126+00</td>\n",
       "      <td>t</td>\n",
       "      <td>t</td>\n",
       "      <td>f</td>\n",
       "      <td>RESTAURANT SUPERVISOR - THE FORKLIFT</td>\n",
       "      <td>Wasatch Adaptive Sports</td>\n",
       "      <td>Sandy, UT</td>\n",
       "      <td>2024-01-14</td>\n",
       "      <td>Tooele</td>\n",
       "      <td>United States</td>\n",
       "      <td>Stand-In</td>\n",
       "      <td>Mid senior</td>\n",
       "      <td>Onsite</td>\n",
       "    </tr>\n",
       "    <tr>\n",
       "      <th>3</th>\n",
       "      <td>https://www.linkedin.com/jobs/view/independent...</td>\n",
       "      <td>2024-01-21 07:40:00.308133+00</td>\n",
       "      <td>t</td>\n",
       "      <td>t</td>\n",
       "      <td>f</td>\n",
       "      <td>Independent Real Estate Agent</td>\n",
       "      <td>Howard Hanna | Rand Realty</td>\n",
       "      <td>Englewood Cliffs, NJ</td>\n",
       "      <td>2024-01-16</td>\n",
       "      <td>Pinehurst</td>\n",
       "      <td>United States</td>\n",
       "      <td>Real-Estate Clerk</td>\n",
       "      <td>Mid senior</td>\n",
       "      <td>Onsite</td>\n",
       "    </tr>\n",
       "    <tr>\n",
       "      <th>4</th>\n",
       "      <td>https://www.linkedin.com/jobs/view/group-unit-...</td>\n",
       "      <td>2024-01-19 09:45:09.215838+00</td>\n",
       "      <td>f</td>\n",
       "      <td>f</td>\n",
       "      <td>f</td>\n",
       "      <td>Group/Unit Supervisor (Systems Support Manager...</td>\n",
       "      <td>IRS, Office of Chief Counsel</td>\n",
       "      <td>Chamblee, GA</td>\n",
       "      <td>2024-01-17</td>\n",
       "      <td>Gadsden</td>\n",
       "      <td>United States</td>\n",
       "      <td>Supervisor Travel-Information Center</td>\n",
       "      <td>Mid senior</td>\n",
       "      <td>Onsite</td>\n",
       "    </tr>\n",
       "    <tr>\n",
       "      <th>...</th>\n",
       "      <td>...</td>\n",
       "      <td>...</td>\n",
       "      <td>...</td>\n",
       "      <td>...</td>\n",
       "      <td>...</td>\n",
       "      <td>...</td>\n",
       "      <td>...</td>\n",
       "      <td>...</td>\n",
       "      <td>...</td>\n",
       "      <td>...</td>\n",
       "      <td>...</td>\n",
       "      <td>...</td>\n",
       "      <td>...</td>\n",
       "      <td>...</td>\n",
       "    </tr>\n",
       "    <tr>\n",
       "      <th>84273</th>\n",
       "      <td>https://www.linkedin.com/jobs/view/solutions-a...</td>\n",
       "      <td>2024-01-19 16:25:42.705747+00</td>\n",
       "      <td>t</td>\n",
       "      <td>t</td>\n",
       "      <td>f</td>\n",
       "      <td>Solutions Architect - Estimation Specialist wi...</td>\n",
       "      <td>ClearanceJobs</td>\n",
       "      <td>Herndon, VA</td>\n",
       "      <td>2024-01-16</td>\n",
       "      <td>Silver Spring</td>\n",
       "      <td>United States</td>\n",
       "      <td>Guide Establishment</td>\n",
       "      <td>Mid senior</td>\n",
       "      <td>Onsite</td>\n",
       "    </tr>\n",
       "    <tr>\n",
       "      <th>84274</th>\n",
       "      <td>https://www.linkedin.com/jobs/view/network-ope...</td>\n",
       "      <td>2024-01-19 16:25:43.033062+00</td>\n",
       "      <td>t</td>\n",
       "      <td>t</td>\n",
       "      <td>f</td>\n",
       "      <td>Network Operations Technical Lead Americas</td>\n",
       "      <td>WSP in the U.S.</td>\n",
       "      <td>Panama City Beach, FL</td>\n",
       "      <td>2024-01-14</td>\n",
       "      <td>Panama City</td>\n",
       "      <td>United States</td>\n",
       "      <td>Recruiter</td>\n",
       "      <td>Mid senior</td>\n",
       "      <td>Onsite</td>\n",
       "    </tr>\n",
       "    <tr>\n",
       "      <th>84275</th>\n",
       "      <td>https://www.linkedin.com/jobs/view/obstetrics-...</td>\n",
       "      <td>2024-01-19 16:25:21.661217+00</td>\n",
       "      <td>t</td>\n",
       "      <td>t</td>\n",
       "      <td>f</td>\n",
       "      <td>Obstetrics &amp; Gynecology Physician - $1,800/daily</td>\n",
       "      <td>DocCafe</td>\n",
       "      <td>Bluffton, IN</td>\n",
       "      <td>2024-01-14</td>\n",
       "      <td>Fort Wayne</td>\n",
       "      <td>United States</td>\n",
       "      <td>Family Practitioner</td>\n",
       "      <td>Mid senior</td>\n",
       "      <td>Onsite</td>\n",
       "    </tr>\n",
       "    <tr>\n",
       "      <th>84276</th>\n",
       "      <td>https://au.linkedin.com/jobs/view/fleet-servic...</td>\n",
       "      <td>2024-01-19 16:25:22.394793+00</td>\n",
       "      <td>t</td>\n",
       "      <td>t</td>\n",
       "      <td>f</td>\n",
       "      <td>Fleet Service Team Leader (Service Manager)</td>\n",
       "      <td>Workforce Australia for Individuals</td>\n",
       "      <td>Picton, Western Australia, Australia</td>\n",
       "      <td>2024-01-14</td>\n",
       "      <td>Western Australia</td>\n",
       "      <td>Australia</td>\n",
       "      <td>Director Stage</td>\n",
       "      <td>Mid senior</td>\n",
       "      <td>Onsite</td>\n",
       "    </tr>\n",
       "    <tr>\n",
       "      <th>84277</th>\n",
       "      <td>https://uk.linkedin.com/jobs/view/specialist-r...</td>\n",
       "      <td>2024-01-19 16:25:22.770302+00</td>\n",
       "      <td>t</td>\n",
       "      <td>t</td>\n",
       "      <td>f</td>\n",
       "      <td>Specialist Registered Nurse - Gynaecology (Out...</td>\n",
       "      <td>Spire Healthcare Group plc</td>\n",
       "      <td>Cheshire, England, United Kingdom</td>\n",
       "      <td>2024-01-14</td>\n",
       "      <td>Liverpool</td>\n",
       "      <td>United Kingdom</td>\n",
       "      <td>Special Effects Specialist</td>\n",
       "      <td>Mid senior</td>\n",
       "      <td>Onsite</td>\n",
       "    </tr>\n",
       "  </tbody>\n",
       "</table>\n",
       "<p>84278 rows × 14 columns</p>\n",
       "</div>"
      ],
      "text/plain": [
       "                                                job_link  \\\n",
       "0      https://www.linkedin.com/jobs/view/account-exe...   \n",
       "1      https://www.linkedin.com/jobs/view/registered-...   \n",
       "2      https://www.linkedin.com/jobs/view/restaurant-...   \n",
       "3      https://www.linkedin.com/jobs/view/independent...   \n",
       "4      https://www.linkedin.com/jobs/view/group-unit-...   \n",
       "...                                                  ...   \n",
       "84273  https://www.linkedin.com/jobs/view/solutions-a...   \n",
       "84274  https://www.linkedin.com/jobs/view/network-ope...   \n",
       "84275  https://www.linkedin.com/jobs/view/obstetrics-...   \n",
       "84276  https://au.linkedin.com/jobs/view/fleet-servic...   \n",
       "84277  https://uk.linkedin.com/jobs/view/specialist-r...   \n",
       "\n",
       "                 last_processed_time got_summary got_ner is_being_worked  \\\n",
       "0       2024-01-21 07:12:29.00256+00           t       t               f   \n",
       "1       2024-01-21 07:39:58.88137+00           t       t               f   \n",
       "2      2024-01-21 07:40:00.251126+00           t       t               f   \n",
       "3      2024-01-21 07:40:00.308133+00           t       t               f   \n",
       "4      2024-01-19 09:45:09.215838+00           f       f               f   \n",
       "...                              ...         ...     ...             ...   \n",
       "84273  2024-01-19 16:25:42.705747+00           t       t               f   \n",
       "84274  2024-01-19 16:25:43.033062+00           t       t               f   \n",
       "84275  2024-01-19 16:25:21.661217+00           t       t               f   \n",
       "84276  2024-01-19 16:25:22.394793+00           t       t               f   \n",
       "84277  2024-01-19 16:25:22.770302+00           t       t               f   \n",
       "\n",
       "                                               job_title  \\\n",
       "0      Account Executive - Dispensing (NorCal/Norther...   \n",
       "1                     Registered Nurse - RN Care Manager   \n",
       "2                   RESTAURANT SUPERVISOR - THE FORKLIFT   \n",
       "3                          Independent Real Estate Agent   \n",
       "4      Group/Unit Supervisor (Systems Support Manager...   \n",
       "...                                                  ...   \n",
       "84273  Solutions Architect - Estimation Specialist wi...   \n",
       "84274         Network Operations Technical Lead Americas   \n",
       "84275   Obstetrics & Gynecology Physician - $1,800/daily   \n",
       "84276        Fleet Service Team Leader (Service Manager)   \n",
       "84277  Specialist Registered Nurse - Gynaecology (Out...   \n",
       "\n",
       "                                   company  \\\n",
       "0                                       BD   \n",
       "1                        Trinity Health MI   \n",
       "2                  Wasatch Adaptive Sports   \n",
       "3               Howard Hanna | Rand Realty   \n",
       "4             IRS, Office of Chief Counsel   \n",
       "...                                    ...   \n",
       "84273                        ClearanceJobs   \n",
       "84274                      WSP in the U.S.   \n",
       "84275                              DocCafe   \n",
       "84276  Workforce Australia for Individuals   \n",
       "84277           Spire Healthcare Group plc   \n",
       "\n",
       "                               job_location  first_seen        search_city  \\\n",
       "0                             San Diego, CA  2024-01-15           Coronado   \n",
       "1                         Norton Shores, MI  2024-01-14        Grand Haven   \n",
       "2                                 Sandy, UT  2024-01-14             Tooele   \n",
       "3                      Englewood Cliffs, NJ  2024-01-16          Pinehurst   \n",
       "4                              Chamblee, GA  2024-01-17            Gadsden   \n",
       "...                                     ...         ...                ...   \n",
       "84273                           Herndon, VA  2024-01-16      Silver Spring   \n",
       "84274                 Panama City Beach, FL  2024-01-14        Panama City   \n",
       "84275                          Bluffton, IN  2024-01-14         Fort Wayne   \n",
       "84276  Picton, Western Australia, Australia  2024-01-14  Western Australia   \n",
       "84277     Cheshire, England, United Kingdom  2024-01-14          Liverpool   \n",
       "\n",
       "       search_country                       search_position   job_level  \\\n",
       "0       United States                           Color Maker  Mid senior   \n",
       "1       United States              Director Nursing Service  Mid senior   \n",
       "2       United States                              Stand-In  Mid senior   \n",
       "3       United States                     Real-Estate Clerk  Mid senior   \n",
       "4       United States  Supervisor Travel-Information Center  Mid senior   \n",
       "...               ...                                   ...         ...   \n",
       "84273   United States                   Guide Establishment  Mid senior   \n",
       "84274   United States                             Recruiter  Mid senior   \n",
       "84275   United States                   Family Practitioner  Mid senior   \n",
       "84276       Australia                        Director Stage  Mid senior   \n",
       "84277  United Kingdom            Special Effects Specialist  Mid senior   \n",
       "\n",
       "      job_type  \n",
       "0       Onsite  \n",
       "1       Onsite  \n",
       "2       Onsite  \n",
       "3       Onsite  \n",
       "4       Onsite  \n",
       "...        ...  \n",
       "84273   Onsite  \n",
       "84274   Onsite  \n",
       "84275   Onsite  \n",
       "84276   Onsite  \n",
       "84277   Onsite  \n",
       "\n",
       "[84278 rows x 14 columns]"
      ]
     },
     "metadata": {},
     "output_type": "display_data"
    },
    {
     "data": {
      "text/html": [
       "<div>\n",
       "<style scoped>\n",
       "    .dataframe tbody tr th:only-of-type {\n",
       "        vertical-align: middle;\n",
       "    }\n",
       "\n",
       "    .dataframe tbody tr th {\n",
       "        vertical-align: top;\n",
       "    }\n",
       "\n",
       "    .dataframe thead th {\n",
       "        text-align: right;\n",
       "    }\n",
       "</style>\n",
       "<table border=\"1\" class=\"dataframe\">\n",
       "  <thead>\n",
       "    <tr style=\"text-align: right;\">\n",
       "      <th></th>\n",
       "      <th>Country Name</th>\n",
       "      <th>Country Code</th>\n",
       "      <th>Year</th>\n",
       "      <th>Value</th>\n",
       "    </tr>\n",
       "  </thead>\n",
       "  <tbody>\n",
       "    <tr>\n",
       "      <th>0</th>\n",
       "      <td>Afghanistan</td>\n",
       "      <td>AFG</td>\n",
       "      <td>2000</td>\n",
       "      <td>3.521418e+09</td>\n",
       "    </tr>\n",
       "    <tr>\n",
       "      <th>1</th>\n",
       "      <td>Afghanistan</td>\n",
       "      <td>AFG</td>\n",
       "      <td>2001</td>\n",
       "      <td>2.813572e+09</td>\n",
       "    </tr>\n",
       "    <tr>\n",
       "      <th>2</th>\n",
       "      <td>Afghanistan</td>\n",
       "      <td>AFG</td>\n",
       "      <td>2002</td>\n",
       "      <td>3.825701e+09</td>\n",
       "    </tr>\n",
       "    <tr>\n",
       "      <th>3</th>\n",
       "      <td>Afghanistan</td>\n",
       "      <td>AFG</td>\n",
       "      <td>2003</td>\n",
       "      <td>4.520947e+09</td>\n",
       "    </tr>\n",
       "    <tr>\n",
       "      <th>4</th>\n",
       "      <td>Afghanistan</td>\n",
       "      <td>AFG</td>\n",
       "      <td>2004</td>\n",
       "      <td>5.224897e+09</td>\n",
       "    </tr>\n",
       "    <tr>\n",
       "      <th>...</th>\n",
       "      <td>...</td>\n",
       "      <td>...</td>\n",
       "      <td>...</td>\n",
       "      <td>...</td>\n",
       "    </tr>\n",
       "    <tr>\n",
       "      <th>13974</th>\n",
       "      <td>Zimbabwe</td>\n",
       "      <td>ZWE</td>\n",
       "      <td>2019</td>\n",
       "      <td>2.183223e+10</td>\n",
       "    </tr>\n",
       "    <tr>\n",
       "      <th>13975</th>\n",
       "      <td>Zimbabwe</td>\n",
       "      <td>ZWE</td>\n",
       "      <td>2020</td>\n",
       "      <td>2.150970e+10</td>\n",
       "    </tr>\n",
       "    <tr>\n",
       "      <th>13976</th>\n",
       "      <td>Zimbabwe</td>\n",
       "      <td>ZWE</td>\n",
       "      <td>2021</td>\n",
       "      <td>2.837124e+10</td>\n",
       "    </tr>\n",
       "    <tr>\n",
       "      <th>13977</th>\n",
       "      <td>Zimbabwe</td>\n",
       "      <td>ZWE</td>\n",
       "      <td>2022</td>\n",
       "      <td>2.736663e+10</td>\n",
       "    </tr>\n",
       "    <tr>\n",
       "      <th>13978</th>\n",
       "      <td>Zimbabwe</td>\n",
       "      <td>ZWE</td>\n",
       "      <td>2023</td>\n",
       "      <td>2.653827e+10</td>\n",
       "    </tr>\n",
       "  </tbody>\n",
       "</table>\n",
       "<p>13979 rows × 4 columns</p>\n",
       "</div>"
      ],
      "text/plain": [
       "      Country Name Country Code  Year         Value\n",
       "0      Afghanistan          AFG  2000  3.521418e+09\n",
       "1      Afghanistan          AFG  2001  2.813572e+09\n",
       "2      Afghanistan          AFG  2002  3.825701e+09\n",
       "3      Afghanistan          AFG  2003  4.520947e+09\n",
       "4      Afghanistan          AFG  2004  5.224897e+09\n",
       "...            ...          ...   ...           ...\n",
       "13974     Zimbabwe          ZWE  2019  2.183223e+10\n",
       "13975     Zimbabwe          ZWE  2020  2.150970e+10\n",
       "13976     Zimbabwe          ZWE  2021  2.837124e+10\n",
       "13977     Zimbabwe          ZWE  2022  2.736663e+10\n",
       "13978     Zimbabwe          ZWE  2023  2.653827e+10\n",
       "\n",
       "[13979 rows x 4 columns]"
      ]
     },
     "metadata": {},
     "output_type": "display_data"
    },
    {
     "data": {
      "text/html": [
       "<div>\n",
       "<style scoped>\n",
       "    .dataframe tbody tr th:only-of-type {\n",
       "        vertical-align: middle;\n",
       "    }\n",
       "\n",
       "    .dataframe tbody tr th {\n",
       "        vertical-align: top;\n",
       "    }\n",
       "\n",
       "    .dataframe thead th {\n",
       "        text-align: right;\n",
       "    }\n",
       "</style>\n",
       "<table border=\"1\" class=\"dataframe\">\n",
       "  <thead>\n",
       "    <tr style=\"text-align: right;\">\n",
       "      <th></th>\n",
       "      <th>Unnamed: 0</th>\n",
       "      <th>country_name</th>\n",
       "      <th>industry_group_name</th>\n",
       "      <th>year</th>\n",
       "      <th>skill_name</th>\n",
       "      <th>impt_rank</th>\n",
       "      <th>rank_diff</th>\n",
       "      <th>highest_ss</th>\n",
       "      <th>closest_skill</th>\n",
       "    </tr>\n",
       "  </thead>\n",
       "  <tbody>\n",
       "    <tr>\n",
       "      <th>0</th>\n",
       "      <td>0</td>\n",
       "      <td>Australia</td>\n",
       "      <td>Agriculture</td>\n",
       "      <td>2021</td>\n",
       "      <td>Agriculture</td>\n",
       "      <td>1</td>\n",
       "      <td>0</td>\n",
       "      <td>100.000000</td>\n",
       "      <td>Agriculture</td>\n",
       "    </tr>\n",
       "    <tr>\n",
       "      <th>1</th>\n",
       "      <td>1</td>\n",
       "      <td>Australia</td>\n",
       "      <td>Agriculture</td>\n",
       "      <td>2021</td>\n",
       "      <td>Livestock</td>\n",
       "      <td>2</td>\n",
       "      <td>New</td>\n",
       "      <td>94.646519</td>\n",
       "      <td>Farms</td>\n",
       "    </tr>\n",
       "    <tr>\n",
       "      <th>2</th>\n",
       "      <td>2</td>\n",
       "      <td>Australia</td>\n",
       "      <td>Agriculture</td>\n",
       "      <td>2021</td>\n",
       "      <td>Agribusiness</td>\n",
       "      <td>3</td>\n",
       "      <td>-1</td>\n",
       "      <td>100.000000</td>\n",
       "      <td>Agribusiness</td>\n",
       "    </tr>\n",
       "    <tr>\n",
       "      <th>3</th>\n",
       "      <td>3</td>\n",
       "      <td>Australia</td>\n",
       "      <td>Agriculture</td>\n",
       "      <td>2021</td>\n",
       "      <td>Agricultural Production</td>\n",
       "      <td>4</td>\n",
       "      <td>New</td>\n",
       "      <td>93.012886</td>\n",
       "      <td>Agriculture</td>\n",
       "    </tr>\n",
       "    <tr>\n",
       "      <th>4</th>\n",
       "      <td>4</td>\n",
       "      <td>Australia</td>\n",
       "      <td>Agriculture</td>\n",
       "      <td>2021</td>\n",
       "      <td>Sustainable Agriculture</td>\n",
       "      <td>5</td>\n",
       "      <td>-1</td>\n",
       "      <td>100.000000</td>\n",
       "      <td>Sustainable Agriculture</td>\n",
       "    </tr>\n",
       "    <tr>\n",
       "      <th>...</th>\n",
       "      <td>...</td>\n",
       "      <td>...</td>\n",
       "      <td>...</td>\n",
       "      <td>...</td>\n",
       "      <td>...</td>\n",
       "      <td>...</td>\n",
       "      <td>...</td>\n",
       "      <td>...</td>\n",
       "      <td>...</td>\n",
       "    </tr>\n",
       "    <tr>\n",
       "      <th>5565</th>\n",
       "      <td>5565</td>\n",
       "      <td>United States</td>\n",
       "      <td>Wellness &amp; Fitness</td>\n",
       "      <td>2021</td>\n",
       "      <td>Cardiopulmonary Resuscitation (CPR)</td>\n",
       "      <td>6</td>\n",
       "      <td>1</td>\n",
       "      <td>100.000000</td>\n",
       "      <td>Cardiopulmonary Resuscitation (CPR)</td>\n",
       "    </tr>\n",
       "    <tr>\n",
       "      <th>5566</th>\n",
       "      <td>5566</td>\n",
       "      <td>United States</td>\n",
       "      <td>Wellness &amp; Fitness</td>\n",
       "      <td>2021</td>\n",
       "      <td>Healthcare</td>\n",
       "      <td>7</td>\n",
       "      <td>-2</td>\n",
       "      <td>100.000000</td>\n",
       "      <td>Healthcare</td>\n",
       "    </tr>\n",
       "    <tr>\n",
       "      <th>5567</th>\n",
       "      <td>5567</td>\n",
       "      <td>United States</td>\n",
       "      <td>Wellness &amp; Fitness</td>\n",
       "      <td>2021</td>\n",
       "      <td>Health &amp; Wellness</td>\n",
       "      <td>8</td>\n",
       "      <td>New</td>\n",
       "      <td>91.801884</td>\n",
       "      <td>Wellness Coaching</td>\n",
       "    </tr>\n",
       "    <tr>\n",
       "      <th>5568</th>\n",
       "      <td>5568</td>\n",
       "      <td>United States</td>\n",
       "      <td>Wellness &amp; Fitness</td>\n",
       "      <td>2021</td>\n",
       "      <td>Yoga Instruction</td>\n",
       "      <td>9</td>\n",
       "      <td>New</td>\n",
       "      <td>88.686367</td>\n",
       "      <td>Holistic Health</td>\n",
       "    </tr>\n",
       "    <tr>\n",
       "      <th>5569</th>\n",
       "      <td>5569</td>\n",
       "      <td>United States</td>\n",
       "      <td>Wellness &amp; Fitness</td>\n",
       "      <td>2021</td>\n",
       "      <td>Holistic Health</td>\n",
       "      <td>10</td>\n",
       "      <td>-4</td>\n",
       "      <td>100.000000</td>\n",
       "      <td>Holistic Health</td>\n",
       "    </tr>\n",
       "  </tbody>\n",
       "</table>\n",
       "<p>5570 rows × 9 columns</p>\n",
       "</div>"
      ],
      "text/plain": [
       "      Unnamed: 0   country_name industry_group_name  year  \\\n",
       "0              0      Australia         Agriculture  2021   \n",
       "1              1      Australia         Agriculture  2021   \n",
       "2              2      Australia         Agriculture  2021   \n",
       "3              3      Australia         Agriculture  2021   \n",
       "4              4      Australia         Agriculture  2021   \n",
       "...          ...            ...                 ...   ...   \n",
       "5565        5565  United States  Wellness & Fitness  2021   \n",
       "5566        5566  United States  Wellness & Fitness  2021   \n",
       "5567        5567  United States  Wellness & Fitness  2021   \n",
       "5568        5568  United States  Wellness & Fitness  2021   \n",
       "5569        5569  United States  Wellness & Fitness  2021   \n",
       "\n",
       "                               skill_name  impt_rank rank_diff  highest_ss  \\\n",
       "0                             Agriculture          1         0  100.000000   \n",
       "1                               Livestock          2       New   94.646519   \n",
       "2                            Agribusiness          3        -1  100.000000   \n",
       "3                 Agricultural Production          4       New   93.012886   \n",
       "4                 Sustainable Agriculture          5        -1  100.000000   \n",
       "...                                   ...        ...       ...         ...   \n",
       "5565  Cardiopulmonary Resuscitation (CPR)          6         1  100.000000   \n",
       "5566                           Healthcare          7        -2  100.000000   \n",
       "5567                    Health & Wellness          8       New   91.801884   \n",
       "5568                     Yoga Instruction          9       New   88.686367   \n",
       "5569                      Holistic Health         10        -4  100.000000   \n",
       "\n",
       "                            closest_skill  \n",
       "0                             Agriculture  \n",
       "1                                   Farms  \n",
       "2                            Agribusiness  \n",
       "3                             Agriculture  \n",
       "4                 Sustainable Agriculture  \n",
       "...                                   ...  \n",
       "5565  Cardiopulmonary Resuscitation (CPR)  \n",
       "5566                           Healthcare  \n",
       "5567                    Wellness Coaching  \n",
       "5568                      Holistic Health  \n",
       "5569                      Holistic Health  \n",
       "\n",
       "[5570 rows x 9 columns]"
      ]
     },
     "metadata": {},
     "output_type": "display_data"
    }
   ],
   "source": [
    "display(Job_Postings_df)\n",
    "display(GDP_df)\n",
    "display(Industry_df)"
   ]
  },
  {
   "cell_type": "code",
   "execution_count": 45,
   "metadata": {},
   "outputs": [
    {
     "name": "stdout",
     "output_type": "stream",
     "text": [
      "Job Postings DataFrame Info:\n",
      "<class 'pandas.core.frame.DataFrame'>\n",
      "RangeIndex: 84278 entries, 0 to 84277\n",
      "Data columns (total 14 columns):\n",
      " #   Column               Non-Null Count  Dtype \n",
      "---  ------               --------------  ----- \n",
      " 0   job_link             84278 non-null  object\n",
      " 1   last_processed_time  84278 non-null  object\n",
      " 2   got_summary          84278 non-null  object\n",
      " 3   got_ner              84278 non-null  object\n",
      " 4   is_being_worked      84278 non-null  object\n",
      " 5   job_title            84278 non-null  object\n",
      " 6   company              84277 non-null  object\n",
      " 7   job_location         84278 non-null  object\n",
      " 8   first_seen           84278 non-null  object\n",
      " 9   search_city          84278 non-null  object\n",
      " 10  search_country       84278 non-null  object\n",
      " 11  search_position      84278 non-null  object\n",
      " 12  job_level            84278 non-null  object\n",
      " 13  job_type             84278 non-null  object\n",
      "dtypes: object(14)\n",
      "memory usage: 9.0+ MB\n"
     ]
    },
    {
     "data": {
      "text/html": [
       "<div>\n",
       "<style scoped>\n",
       "    .dataframe tbody tr th:only-of-type {\n",
       "        vertical-align: middle;\n",
       "    }\n",
       "\n",
       "    .dataframe tbody tr th {\n",
       "        vertical-align: top;\n",
       "    }\n",
       "\n",
       "    .dataframe thead th {\n",
       "        text-align: right;\n",
       "    }\n",
       "</style>\n",
       "<table border=\"1\" class=\"dataframe\">\n",
       "  <thead>\n",
       "    <tr style=\"text-align: right;\">\n",
       "      <th></th>\n",
       "      <th>job_link</th>\n",
       "      <th>last_processed_time</th>\n",
       "      <th>got_summary</th>\n",
       "      <th>got_ner</th>\n",
       "      <th>is_being_worked</th>\n",
       "      <th>job_title</th>\n",
       "      <th>company</th>\n",
       "      <th>job_location</th>\n",
       "      <th>first_seen</th>\n",
       "      <th>search_city</th>\n",
       "      <th>search_country</th>\n",
       "      <th>search_position</th>\n",
       "      <th>job_level</th>\n",
       "      <th>job_type</th>\n",
       "    </tr>\n",
       "  </thead>\n",
       "  <tbody>\n",
       "    <tr>\n",
       "      <th>0</th>\n",
       "      <td>https://www.linkedin.com/jobs/view/account-exe...</td>\n",
       "      <td>2024-01-21 07:12:29.00256+00</td>\n",
       "      <td>t</td>\n",
       "      <td>t</td>\n",
       "      <td>f</td>\n",
       "      <td>Account Executive - Dispensing (NorCal/Norther...</td>\n",
       "      <td>BD</td>\n",
       "      <td>San Diego, CA</td>\n",
       "      <td>2024-01-15</td>\n",
       "      <td>Coronado</td>\n",
       "      <td>United States</td>\n",
       "      <td>Color Maker</td>\n",
       "      <td>Mid senior</td>\n",
       "      <td>Onsite</td>\n",
       "    </tr>\n",
       "    <tr>\n",
       "      <th>1</th>\n",
       "      <td>https://www.linkedin.com/jobs/view/registered-...</td>\n",
       "      <td>2024-01-21 07:39:58.88137+00</td>\n",
       "      <td>t</td>\n",
       "      <td>t</td>\n",
       "      <td>f</td>\n",
       "      <td>Registered Nurse - RN Care Manager</td>\n",
       "      <td>Trinity Health MI</td>\n",
       "      <td>Norton Shores, MI</td>\n",
       "      <td>2024-01-14</td>\n",
       "      <td>Grand Haven</td>\n",
       "      <td>United States</td>\n",
       "      <td>Director Nursing Service</td>\n",
       "      <td>Mid senior</td>\n",
       "      <td>Onsite</td>\n",
       "    </tr>\n",
       "    <tr>\n",
       "      <th>2</th>\n",
       "      <td>https://www.linkedin.com/jobs/view/restaurant-...</td>\n",
       "      <td>2024-01-21 07:40:00.251126+00</td>\n",
       "      <td>t</td>\n",
       "      <td>t</td>\n",
       "      <td>f</td>\n",
       "      <td>RESTAURANT SUPERVISOR - THE FORKLIFT</td>\n",
       "      <td>Wasatch Adaptive Sports</td>\n",
       "      <td>Sandy, UT</td>\n",
       "      <td>2024-01-14</td>\n",
       "      <td>Tooele</td>\n",
       "      <td>United States</td>\n",
       "      <td>Stand-In</td>\n",
       "      <td>Mid senior</td>\n",
       "      <td>Onsite</td>\n",
       "    </tr>\n",
       "    <tr>\n",
       "      <th>3</th>\n",
       "      <td>https://www.linkedin.com/jobs/view/independent...</td>\n",
       "      <td>2024-01-21 07:40:00.308133+00</td>\n",
       "      <td>t</td>\n",
       "      <td>t</td>\n",
       "      <td>f</td>\n",
       "      <td>Independent Real Estate Agent</td>\n",
       "      <td>Howard Hanna | Rand Realty</td>\n",
       "      <td>Englewood Cliffs, NJ</td>\n",
       "      <td>2024-01-16</td>\n",
       "      <td>Pinehurst</td>\n",
       "      <td>United States</td>\n",
       "      <td>Real-Estate Clerk</td>\n",
       "      <td>Mid senior</td>\n",
       "      <td>Onsite</td>\n",
       "    </tr>\n",
       "    <tr>\n",
       "      <th>4</th>\n",
       "      <td>https://www.linkedin.com/jobs/view/group-unit-...</td>\n",
       "      <td>2024-01-19 09:45:09.215838+00</td>\n",
       "      <td>f</td>\n",
       "      <td>f</td>\n",
       "      <td>f</td>\n",
       "      <td>Group/Unit Supervisor (Systems Support Manager...</td>\n",
       "      <td>IRS, Office of Chief Counsel</td>\n",
       "      <td>Chamblee, GA</td>\n",
       "      <td>2024-01-17</td>\n",
       "      <td>Gadsden</td>\n",
       "      <td>United States</td>\n",
       "      <td>Supervisor Travel-Information Center</td>\n",
       "      <td>Mid senior</td>\n",
       "      <td>Onsite</td>\n",
       "    </tr>\n",
       "    <tr>\n",
       "      <th>...</th>\n",
       "      <td>...</td>\n",
       "      <td>...</td>\n",
       "      <td>...</td>\n",
       "      <td>...</td>\n",
       "      <td>...</td>\n",
       "      <td>...</td>\n",
       "      <td>...</td>\n",
       "      <td>...</td>\n",
       "      <td>...</td>\n",
       "      <td>...</td>\n",
       "      <td>...</td>\n",
       "      <td>...</td>\n",
       "      <td>...</td>\n",
       "      <td>...</td>\n",
       "    </tr>\n",
       "    <tr>\n",
       "      <th>84273</th>\n",
       "      <td>https://www.linkedin.com/jobs/view/solutions-a...</td>\n",
       "      <td>2024-01-19 16:25:42.705747+00</td>\n",
       "      <td>t</td>\n",
       "      <td>t</td>\n",
       "      <td>f</td>\n",
       "      <td>Solutions Architect - Estimation Specialist wi...</td>\n",
       "      <td>ClearanceJobs</td>\n",
       "      <td>Herndon, VA</td>\n",
       "      <td>2024-01-16</td>\n",
       "      <td>Silver Spring</td>\n",
       "      <td>United States</td>\n",
       "      <td>Guide Establishment</td>\n",
       "      <td>Mid senior</td>\n",
       "      <td>Onsite</td>\n",
       "    </tr>\n",
       "    <tr>\n",
       "      <th>84274</th>\n",
       "      <td>https://www.linkedin.com/jobs/view/network-ope...</td>\n",
       "      <td>2024-01-19 16:25:43.033062+00</td>\n",
       "      <td>t</td>\n",
       "      <td>t</td>\n",
       "      <td>f</td>\n",
       "      <td>Network Operations Technical Lead Americas</td>\n",
       "      <td>WSP in the U.S.</td>\n",
       "      <td>Panama City Beach, FL</td>\n",
       "      <td>2024-01-14</td>\n",
       "      <td>Panama City</td>\n",
       "      <td>United States</td>\n",
       "      <td>Recruiter</td>\n",
       "      <td>Mid senior</td>\n",
       "      <td>Onsite</td>\n",
       "    </tr>\n",
       "    <tr>\n",
       "      <th>84275</th>\n",
       "      <td>https://www.linkedin.com/jobs/view/obstetrics-...</td>\n",
       "      <td>2024-01-19 16:25:21.661217+00</td>\n",
       "      <td>t</td>\n",
       "      <td>t</td>\n",
       "      <td>f</td>\n",
       "      <td>Obstetrics &amp; Gynecology Physician - $1,800/daily</td>\n",
       "      <td>DocCafe</td>\n",
       "      <td>Bluffton, IN</td>\n",
       "      <td>2024-01-14</td>\n",
       "      <td>Fort Wayne</td>\n",
       "      <td>United States</td>\n",
       "      <td>Family Practitioner</td>\n",
       "      <td>Mid senior</td>\n",
       "      <td>Onsite</td>\n",
       "    </tr>\n",
       "    <tr>\n",
       "      <th>84276</th>\n",
       "      <td>https://au.linkedin.com/jobs/view/fleet-servic...</td>\n",
       "      <td>2024-01-19 16:25:22.394793+00</td>\n",
       "      <td>t</td>\n",
       "      <td>t</td>\n",
       "      <td>f</td>\n",
       "      <td>Fleet Service Team Leader (Service Manager)</td>\n",
       "      <td>Workforce Australia for Individuals</td>\n",
       "      <td>Picton, Western Australia, Australia</td>\n",
       "      <td>2024-01-14</td>\n",
       "      <td>Western Australia</td>\n",
       "      <td>Australia</td>\n",
       "      <td>Director Stage</td>\n",
       "      <td>Mid senior</td>\n",
       "      <td>Onsite</td>\n",
       "    </tr>\n",
       "    <tr>\n",
       "      <th>84277</th>\n",
       "      <td>https://uk.linkedin.com/jobs/view/specialist-r...</td>\n",
       "      <td>2024-01-19 16:25:22.770302+00</td>\n",
       "      <td>t</td>\n",
       "      <td>t</td>\n",
       "      <td>f</td>\n",
       "      <td>Specialist Registered Nurse - Gynaecology (Out...</td>\n",
       "      <td>Spire Healthcare Group plc</td>\n",
       "      <td>Cheshire, England, United Kingdom</td>\n",
       "      <td>2024-01-14</td>\n",
       "      <td>Liverpool</td>\n",
       "      <td>United Kingdom</td>\n",
       "      <td>Special Effects Specialist</td>\n",
       "      <td>Mid senior</td>\n",
       "      <td>Onsite</td>\n",
       "    </tr>\n",
       "  </tbody>\n",
       "</table>\n",
       "<p>84278 rows × 14 columns</p>\n",
       "</div>"
      ],
      "text/plain": [
       "                                                job_link  \\\n",
       "0      https://www.linkedin.com/jobs/view/account-exe...   \n",
       "1      https://www.linkedin.com/jobs/view/registered-...   \n",
       "2      https://www.linkedin.com/jobs/view/restaurant-...   \n",
       "3      https://www.linkedin.com/jobs/view/independent...   \n",
       "4      https://www.linkedin.com/jobs/view/group-unit-...   \n",
       "...                                                  ...   \n",
       "84273  https://www.linkedin.com/jobs/view/solutions-a...   \n",
       "84274  https://www.linkedin.com/jobs/view/network-ope...   \n",
       "84275  https://www.linkedin.com/jobs/view/obstetrics-...   \n",
       "84276  https://au.linkedin.com/jobs/view/fleet-servic...   \n",
       "84277  https://uk.linkedin.com/jobs/view/specialist-r...   \n",
       "\n",
       "                 last_processed_time got_summary got_ner is_being_worked  \\\n",
       "0       2024-01-21 07:12:29.00256+00           t       t               f   \n",
       "1       2024-01-21 07:39:58.88137+00           t       t               f   \n",
       "2      2024-01-21 07:40:00.251126+00           t       t               f   \n",
       "3      2024-01-21 07:40:00.308133+00           t       t               f   \n",
       "4      2024-01-19 09:45:09.215838+00           f       f               f   \n",
       "...                              ...         ...     ...             ...   \n",
       "84273  2024-01-19 16:25:42.705747+00           t       t               f   \n",
       "84274  2024-01-19 16:25:43.033062+00           t       t               f   \n",
       "84275  2024-01-19 16:25:21.661217+00           t       t               f   \n",
       "84276  2024-01-19 16:25:22.394793+00           t       t               f   \n",
       "84277  2024-01-19 16:25:22.770302+00           t       t               f   \n",
       "\n",
       "                                               job_title  \\\n",
       "0      Account Executive - Dispensing (NorCal/Norther...   \n",
       "1                     Registered Nurse - RN Care Manager   \n",
       "2                   RESTAURANT SUPERVISOR - THE FORKLIFT   \n",
       "3                          Independent Real Estate Agent   \n",
       "4      Group/Unit Supervisor (Systems Support Manager...   \n",
       "...                                                  ...   \n",
       "84273  Solutions Architect - Estimation Specialist wi...   \n",
       "84274         Network Operations Technical Lead Americas   \n",
       "84275   Obstetrics & Gynecology Physician - $1,800/daily   \n",
       "84276        Fleet Service Team Leader (Service Manager)   \n",
       "84277  Specialist Registered Nurse - Gynaecology (Out...   \n",
       "\n",
       "                                   company  \\\n",
       "0                                       BD   \n",
       "1                        Trinity Health MI   \n",
       "2                  Wasatch Adaptive Sports   \n",
       "3               Howard Hanna | Rand Realty   \n",
       "4             IRS, Office of Chief Counsel   \n",
       "...                                    ...   \n",
       "84273                        ClearanceJobs   \n",
       "84274                      WSP in the U.S.   \n",
       "84275                              DocCafe   \n",
       "84276  Workforce Australia for Individuals   \n",
       "84277           Spire Healthcare Group plc   \n",
       "\n",
       "                               job_location  first_seen        search_city  \\\n",
       "0                             San Diego, CA  2024-01-15           Coronado   \n",
       "1                         Norton Shores, MI  2024-01-14        Grand Haven   \n",
       "2                                 Sandy, UT  2024-01-14             Tooele   \n",
       "3                      Englewood Cliffs, NJ  2024-01-16          Pinehurst   \n",
       "4                              Chamblee, GA  2024-01-17            Gadsden   \n",
       "...                                     ...         ...                ...   \n",
       "84273                           Herndon, VA  2024-01-16      Silver Spring   \n",
       "84274                 Panama City Beach, FL  2024-01-14        Panama City   \n",
       "84275                          Bluffton, IN  2024-01-14         Fort Wayne   \n",
       "84276  Picton, Western Australia, Australia  2024-01-14  Western Australia   \n",
       "84277     Cheshire, England, United Kingdom  2024-01-14          Liverpool   \n",
       "\n",
       "       search_country                       search_position   job_level  \\\n",
       "0       United States                           Color Maker  Mid senior   \n",
       "1       United States              Director Nursing Service  Mid senior   \n",
       "2       United States                              Stand-In  Mid senior   \n",
       "3       United States                     Real-Estate Clerk  Mid senior   \n",
       "4       United States  Supervisor Travel-Information Center  Mid senior   \n",
       "...               ...                                   ...         ...   \n",
       "84273   United States                   Guide Establishment  Mid senior   \n",
       "84274   United States                             Recruiter  Mid senior   \n",
       "84275   United States                   Family Practitioner  Mid senior   \n",
       "84276       Australia                        Director Stage  Mid senior   \n",
       "84277  United Kingdom            Special Effects Specialist  Mid senior   \n",
       "\n",
       "      job_type  \n",
       "0       Onsite  \n",
       "1       Onsite  \n",
       "2       Onsite  \n",
       "3       Onsite  \n",
       "4       Onsite  \n",
       "...        ...  \n",
       "84273   Onsite  \n",
       "84274   Onsite  \n",
       "84275   Onsite  \n",
       "84276   Onsite  \n",
       "84277   Onsite  \n",
       "\n",
       "[84278 rows x 14 columns]"
      ]
     },
     "metadata": {},
     "output_type": "display_data"
    },
    {
     "name": "stdout",
     "output_type": "stream",
     "text": [
      "\n",
      "GDP DataFrame Info:\n",
      "<class 'pandas.core.frame.DataFrame'>\n",
      "RangeIndex: 13979 entries, 0 to 13978\n",
      "Data columns (total 4 columns):\n",
      " #   Column        Non-Null Count  Dtype  \n",
      "---  ------        --------------  -----  \n",
      " 0   Country Name  13979 non-null  object \n",
      " 1   Country Code  13979 non-null  object \n",
      " 2   Year          13979 non-null  int64  \n",
      " 3   Value         13979 non-null  float64\n",
      "dtypes: float64(1), int64(1), object(2)\n",
      "memory usage: 437.0+ KB\n"
     ]
    },
    {
     "data": {
      "text/html": [
       "<div>\n",
       "<style scoped>\n",
       "    .dataframe tbody tr th:only-of-type {\n",
       "        vertical-align: middle;\n",
       "    }\n",
       "\n",
       "    .dataframe tbody tr th {\n",
       "        vertical-align: top;\n",
       "    }\n",
       "\n",
       "    .dataframe thead th {\n",
       "        text-align: right;\n",
       "    }\n",
       "</style>\n",
       "<table border=\"1\" class=\"dataframe\">\n",
       "  <thead>\n",
       "    <tr style=\"text-align: right;\">\n",
       "      <th></th>\n",
       "      <th>Country Name</th>\n",
       "      <th>Country Code</th>\n",
       "      <th>Year</th>\n",
       "      <th>Value</th>\n",
       "    </tr>\n",
       "  </thead>\n",
       "  <tbody>\n",
       "    <tr>\n",
       "      <th>0</th>\n",
       "      <td>Afghanistan</td>\n",
       "      <td>AFG</td>\n",
       "      <td>2000</td>\n",
       "      <td>3.521418e+09</td>\n",
       "    </tr>\n",
       "    <tr>\n",
       "      <th>1</th>\n",
       "      <td>Afghanistan</td>\n",
       "      <td>AFG</td>\n",
       "      <td>2001</td>\n",
       "      <td>2.813572e+09</td>\n",
       "    </tr>\n",
       "    <tr>\n",
       "      <th>2</th>\n",
       "      <td>Afghanistan</td>\n",
       "      <td>AFG</td>\n",
       "      <td>2002</td>\n",
       "      <td>3.825701e+09</td>\n",
       "    </tr>\n",
       "    <tr>\n",
       "      <th>3</th>\n",
       "      <td>Afghanistan</td>\n",
       "      <td>AFG</td>\n",
       "      <td>2003</td>\n",
       "      <td>4.520947e+09</td>\n",
       "    </tr>\n",
       "    <tr>\n",
       "      <th>4</th>\n",
       "      <td>Afghanistan</td>\n",
       "      <td>AFG</td>\n",
       "      <td>2004</td>\n",
       "      <td>5.224897e+09</td>\n",
       "    </tr>\n",
       "    <tr>\n",
       "      <th>...</th>\n",
       "      <td>...</td>\n",
       "      <td>...</td>\n",
       "      <td>...</td>\n",
       "      <td>...</td>\n",
       "    </tr>\n",
       "    <tr>\n",
       "      <th>13974</th>\n",
       "      <td>Zimbabwe</td>\n",
       "      <td>ZWE</td>\n",
       "      <td>2019</td>\n",
       "      <td>2.183223e+10</td>\n",
       "    </tr>\n",
       "    <tr>\n",
       "      <th>13975</th>\n",
       "      <td>Zimbabwe</td>\n",
       "      <td>ZWE</td>\n",
       "      <td>2020</td>\n",
       "      <td>2.150970e+10</td>\n",
       "    </tr>\n",
       "    <tr>\n",
       "      <th>13976</th>\n",
       "      <td>Zimbabwe</td>\n",
       "      <td>ZWE</td>\n",
       "      <td>2021</td>\n",
       "      <td>2.837124e+10</td>\n",
       "    </tr>\n",
       "    <tr>\n",
       "      <th>13977</th>\n",
       "      <td>Zimbabwe</td>\n",
       "      <td>ZWE</td>\n",
       "      <td>2022</td>\n",
       "      <td>2.736663e+10</td>\n",
       "    </tr>\n",
       "    <tr>\n",
       "      <th>13978</th>\n",
       "      <td>Zimbabwe</td>\n",
       "      <td>ZWE</td>\n",
       "      <td>2023</td>\n",
       "      <td>2.653827e+10</td>\n",
       "    </tr>\n",
       "  </tbody>\n",
       "</table>\n",
       "<p>13979 rows × 4 columns</p>\n",
       "</div>"
      ],
      "text/plain": [
       "      Country Name Country Code  Year         Value\n",
       "0      Afghanistan          AFG  2000  3.521418e+09\n",
       "1      Afghanistan          AFG  2001  2.813572e+09\n",
       "2      Afghanistan          AFG  2002  3.825701e+09\n",
       "3      Afghanistan          AFG  2003  4.520947e+09\n",
       "4      Afghanistan          AFG  2004  5.224897e+09\n",
       "...            ...          ...   ...           ...\n",
       "13974     Zimbabwe          ZWE  2019  2.183223e+10\n",
       "13975     Zimbabwe          ZWE  2020  2.150970e+10\n",
       "13976     Zimbabwe          ZWE  2021  2.837124e+10\n",
       "13977     Zimbabwe          ZWE  2022  2.736663e+10\n",
       "13978     Zimbabwe          ZWE  2023  2.653827e+10\n",
       "\n",
       "[13979 rows x 4 columns]"
      ]
     },
     "metadata": {},
     "output_type": "display_data"
    },
    {
     "name": "stdout",
     "output_type": "stream",
     "text": [
      "\n",
      "Industry DataFrame Info:\n",
      "<class 'pandas.core.frame.DataFrame'>\n",
      "RangeIndex: 5570 entries, 0 to 5569\n",
      "Data columns (total 9 columns):\n",
      " #   Column               Non-Null Count  Dtype  \n",
      "---  ------               --------------  -----  \n",
      " 0   Unnamed: 0           5570 non-null   int64  \n",
      " 1   country_name         5570 non-null   object \n",
      " 2   industry_group_name  5570 non-null   object \n",
      " 3   year                 5570 non-null   int64  \n",
      " 4   skill_name           5570 non-null   object \n",
      " 5   impt_rank            5570 non-null   int64  \n",
      " 6   rank_diff            5570 non-null   object \n",
      " 7   highest_ss           5570 non-null   float64\n",
      " 8   closest_skill        5570 non-null   object \n",
      "dtypes: float64(1), int64(3), object(5)\n",
      "memory usage: 391.8+ KB\n"
     ]
    },
    {
     "data": {
      "text/html": [
       "<div>\n",
       "<style scoped>\n",
       "    .dataframe tbody tr th:only-of-type {\n",
       "        vertical-align: middle;\n",
       "    }\n",
       "\n",
       "    .dataframe tbody tr th {\n",
       "        vertical-align: top;\n",
       "    }\n",
       "\n",
       "    .dataframe thead th {\n",
       "        text-align: right;\n",
       "    }\n",
       "</style>\n",
       "<table border=\"1\" class=\"dataframe\">\n",
       "  <thead>\n",
       "    <tr style=\"text-align: right;\">\n",
       "      <th></th>\n",
       "      <th>Unnamed: 0</th>\n",
       "      <th>country_name</th>\n",
       "      <th>industry_group_name</th>\n",
       "      <th>year</th>\n",
       "      <th>skill_name</th>\n",
       "      <th>impt_rank</th>\n",
       "      <th>rank_diff</th>\n",
       "      <th>highest_ss</th>\n",
       "      <th>closest_skill</th>\n",
       "    </tr>\n",
       "  </thead>\n",
       "  <tbody>\n",
       "    <tr>\n",
       "      <th>0</th>\n",
       "      <td>0</td>\n",
       "      <td>Australia</td>\n",
       "      <td>Agriculture</td>\n",
       "      <td>2021</td>\n",
       "      <td>Agriculture</td>\n",
       "      <td>1</td>\n",
       "      <td>0</td>\n",
       "      <td>100.000000</td>\n",
       "      <td>Agriculture</td>\n",
       "    </tr>\n",
       "    <tr>\n",
       "      <th>1</th>\n",
       "      <td>1</td>\n",
       "      <td>Australia</td>\n",
       "      <td>Agriculture</td>\n",
       "      <td>2021</td>\n",
       "      <td>Livestock</td>\n",
       "      <td>2</td>\n",
       "      <td>New</td>\n",
       "      <td>94.646519</td>\n",
       "      <td>Farms</td>\n",
       "    </tr>\n",
       "    <tr>\n",
       "      <th>2</th>\n",
       "      <td>2</td>\n",
       "      <td>Australia</td>\n",
       "      <td>Agriculture</td>\n",
       "      <td>2021</td>\n",
       "      <td>Agribusiness</td>\n",
       "      <td>3</td>\n",
       "      <td>-1</td>\n",
       "      <td>100.000000</td>\n",
       "      <td>Agribusiness</td>\n",
       "    </tr>\n",
       "    <tr>\n",
       "      <th>3</th>\n",
       "      <td>3</td>\n",
       "      <td>Australia</td>\n",
       "      <td>Agriculture</td>\n",
       "      <td>2021</td>\n",
       "      <td>Agricultural Production</td>\n",
       "      <td>4</td>\n",
       "      <td>New</td>\n",
       "      <td>93.012886</td>\n",
       "      <td>Agriculture</td>\n",
       "    </tr>\n",
       "    <tr>\n",
       "      <th>4</th>\n",
       "      <td>4</td>\n",
       "      <td>Australia</td>\n",
       "      <td>Agriculture</td>\n",
       "      <td>2021</td>\n",
       "      <td>Sustainable Agriculture</td>\n",
       "      <td>5</td>\n",
       "      <td>-1</td>\n",
       "      <td>100.000000</td>\n",
       "      <td>Sustainable Agriculture</td>\n",
       "    </tr>\n",
       "    <tr>\n",
       "      <th>...</th>\n",
       "      <td>...</td>\n",
       "      <td>...</td>\n",
       "      <td>...</td>\n",
       "      <td>...</td>\n",
       "      <td>...</td>\n",
       "      <td>...</td>\n",
       "      <td>...</td>\n",
       "      <td>...</td>\n",
       "      <td>...</td>\n",
       "    </tr>\n",
       "    <tr>\n",
       "      <th>5565</th>\n",
       "      <td>5565</td>\n",
       "      <td>United States</td>\n",
       "      <td>Wellness &amp; Fitness</td>\n",
       "      <td>2021</td>\n",
       "      <td>Cardiopulmonary Resuscitation (CPR)</td>\n",
       "      <td>6</td>\n",
       "      <td>1</td>\n",
       "      <td>100.000000</td>\n",
       "      <td>Cardiopulmonary Resuscitation (CPR)</td>\n",
       "    </tr>\n",
       "    <tr>\n",
       "      <th>5566</th>\n",
       "      <td>5566</td>\n",
       "      <td>United States</td>\n",
       "      <td>Wellness &amp; Fitness</td>\n",
       "      <td>2021</td>\n",
       "      <td>Healthcare</td>\n",
       "      <td>7</td>\n",
       "      <td>-2</td>\n",
       "      <td>100.000000</td>\n",
       "      <td>Healthcare</td>\n",
       "    </tr>\n",
       "    <tr>\n",
       "      <th>5567</th>\n",
       "      <td>5567</td>\n",
       "      <td>United States</td>\n",
       "      <td>Wellness &amp; Fitness</td>\n",
       "      <td>2021</td>\n",
       "      <td>Health &amp; Wellness</td>\n",
       "      <td>8</td>\n",
       "      <td>New</td>\n",
       "      <td>91.801884</td>\n",
       "      <td>Wellness Coaching</td>\n",
       "    </tr>\n",
       "    <tr>\n",
       "      <th>5568</th>\n",
       "      <td>5568</td>\n",
       "      <td>United States</td>\n",
       "      <td>Wellness &amp; Fitness</td>\n",
       "      <td>2021</td>\n",
       "      <td>Yoga Instruction</td>\n",
       "      <td>9</td>\n",
       "      <td>New</td>\n",
       "      <td>88.686367</td>\n",
       "      <td>Holistic Health</td>\n",
       "    </tr>\n",
       "    <tr>\n",
       "      <th>5569</th>\n",
       "      <td>5569</td>\n",
       "      <td>United States</td>\n",
       "      <td>Wellness &amp; Fitness</td>\n",
       "      <td>2021</td>\n",
       "      <td>Holistic Health</td>\n",
       "      <td>10</td>\n",
       "      <td>-4</td>\n",
       "      <td>100.000000</td>\n",
       "      <td>Holistic Health</td>\n",
       "    </tr>\n",
       "  </tbody>\n",
       "</table>\n",
       "<p>5570 rows × 9 columns</p>\n",
       "</div>"
      ],
      "text/plain": [
       "      Unnamed: 0   country_name industry_group_name  year  \\\n",
       "0              0      Australia         Agriculture  2021   \n",
       "1              1      Australia         Agriculture  2021   \n",
       "2              2      Australia         Agriculture  2021   \n",
       "3              3      Australia         Agriculture  2021   \n",
       "4              4      Australia         Agriculture  2021   \n",
       "...          ...            ...                 ...   ...   \n",
       "5565        5565  United States  Wellness & Fitness  2021   \n",
       "5566        5566  United States  Wellness & Fitness  2021   \n",
       "5567        5567  United States  Wellness & Fitness  2021   \n",
       "5568        5568  United States  Wellness & Fitness  2021   \n",
       "5569        5569  United States  Wellness & Fitness  2021   \n",
       "\n",
       "                               skill_name  impt_rank rank_diff  highest_ss  \\\n",
       "0                             Agriculture          1         0  100.000000   \n",
       "1                               Livestock          2       New   94.646519   \n",
       "2                            Agribusiness          3        -1  100.000000   \n",
       "3                 Agricultural Production          4       New   93.012886   \n",
       "4                 Sustainable Agriculture          5        -1  100.000000   \n",
       "...                                   ...        ...       ...         ...   \n",
       "5565  Cardiopulmonary Resuscitation (CPR)          6         1  100.000000   \n",
       "5566                           Healthcare          7        -2  100.000000   \n",
       "5567                    Health & Wellness          8       New   91.801884   \n",
       "5568                     Yoga Instruction          9       New   88.686367   \n",
       "5569                      Holistic Health         10        -4  100.000000   \n",
       "\n",
       "                            closest_skill  \n",
       "0                             Agriculture  \n",
       "1                                   Farms  \n",
       "2                            Agribusiness  \n",
       "3                             Agriculture  \n",
       "4                 Sustainable Agriculture  \n",
       "...                                   ...  \n",
       "5565  Cardiopulmonary Resuscitation (CPR)  \n",
       "5566                           Healthcare  \n",
       "5567                    Wellness Coaching  \n",
       "5568                      Holistic Health  \n",
       "5569                      Holistic Health  \n",
       "\n",
       "[5570 rows x 9 columns]"
      ]
     },
     "metadata": {},
     "output_type": "display_data"
    }
   ],
   "source": [
    "# print(df.info())\n",
    "print(\"Job Postings DataFrame Info:\")\n",
    "Job_Postings_df.info()\n",
    "display(Job_Postings_df)\n",
    "\n",
    "print(\"\\nGDP DataFrame Info:\")\n",
    "GDP_df.info()\n",
    "display(GDP_df)\n",
    "\n",
    "print(\"\\nIndustry DataFrame Info:\")\n",
    "Industry_df.info()\n",
    "display(Industry_df)"
   ]
  },
  {
   "cell_type": "markdown",
   "metadata": {},
   "source": [
    "## Data management"
   ]
  },
  {
   "cell_type": "markdown",
   "metadata": {},
   "source": [
    "### Data cleaning"
   ]
  },
  {
   "cell_type": "markdown",
   "metadata": {},
   "source": [
    "### 1. Column Standardization\n",
    "- Standardized column names in the `Job_Postings_df`, `GDP_df`, and `Industry_df` datasets by:\n",
    "  - Converting them to uppercase for uniformity.\n",
    "  - Replacing underscores (`_`) with spaces for better readability.\n",
    "\n",
    "### 2. Missing Value Handling\n",
    "- Checked for missing values and entries labeled as 'Not Available' in all datasets.\n",
    "- Replaced `NaN` values in the `Industry_df` dataset with \"Not Available\" to ensure consistency.\n",
    "- Verified that no unresolved missing values or 'Not Available' entries were left in the datasets after processing.\n",
    "\n",
    "### 3. Outlier Detection and Removal\n",
    "- Used the Interquartile Range (IQR) method on the `VALUE` column in the `GDP_df` dataset:\n",
    "  - Identified outliers based on calculated lower and upper bounds.\n",
    "  - Filtered out rows containing outlier values and created a cleaned version of the GDP dataset (`GDP_cleaned_df`).\n",
    "\n",
    "### 4. Data Type Conversion\n",
    "- Converted columns to appropriate data types for accurate analysis:\n",
    "  - `LAST PROCESSED TIME` and `FIRST SEEN` in `Job_Postings_df` were converted to datetime format.\n",
    "  - `IS BEING WORKED` in `Job_Postings_df` was converted to a boolean type.\n",
    "  - Ensured numeric consistency in columns like `YEAR`, `VALUE`, `IMPT RANK`, `RANK DIFF`, and `HIGHEST SS` across the `GDP_df` and `Industry_df` datasets.\n",
    "\n",
    "### 5. Duplicate Removal\n",
    "- Identified and removed duplicate rows from all datasets based on key columns:\n",
    "  - **Job_Postings_df**: Used `JOB LINK`, `JOB TITLE`, `COMPANY`, and `JOB LOCATION` as the criteria for identifying duplicates.\n",
    "  - **GDP_df**: Used `COUNTRY NAME`, `YEAR`, and `VALUE` as the criteria for duplicate removal.\n",
    "  - **Industry_df**: Used `COUNTRY NAME`, `INDUSTRY GROUP NAME`, `YEAR`, and `IMPT RANK` as the criteria for deduplication.\n",
    "- Ensured no duplicates remained in the datasets after cleaning.\n",
    "\n",
    "### Final Outcome\n",
    "This thorough cleaning process ensures that the datasets are standardized, free of inconsistencies, and ready for the subsequent steps of data wrangling and analysis.\n"
   ]
  },
  {
   "cell_type": "markdown",
   "metadata": {},
   "source": [
    "### 1. Renaming Columns Across All Three Datasets\n"
   ]
  },
  {
   "cell_type": "code",
   "execution_count": 46,
   "metadata": {},
   "outputs": [
    {
     "name": "stdout",
     "output_type": "stream",
     "text": [
      "Index(['JOB LINK', 'LAST PROCESSED TIME', 'GOT SUMMARY', 'GOT NER',\n",
      "       'IS BEING WORKED', 'JOB TITLE', 'COMPANY', 'JOB LOCATION', 'FIRST SEEN',\n",
      "       'SEARCH CITY', 'SEARCH COUNTRY', 'SEARCH POSITION', 'JOB LEVEL',\n",
      "       'JOB TYPE'],\n",
      "      dtype='object')\n",
      "Index(['COUNTRY NAME', 'COUNTRY CODE', 'YEAR', 'VALUE'], dtype='object')\n",
      "Index(['UNNAMED: 0', 'COUNTRY NAME', 'INDUSTRY GROUP NAME', 'YEAR',\n",
      "       'SKILL NAME', 'IMPT RANK', 'RANK DIFF', 'HIGHEST SS', 'CLOSEST SKILL'],\n",
      "      dtype='object')\n"
     ]
    }
   ],
   "source": [
    "# For LinkedIn Job Postings Dataset\n",
    "Job_Postings_df.columns = Job_Postings_df.columns.str.upper().str.replace('_', ' ')\n",
    "print(Job_Postings_df.columns)\n",
    "\n",
    "# For GDP Dataset\n",
    "GDP_df.columns = GDP_df.columns.str.upper().str.replace('_', ' ')\n",
    "print(GDP_df.columns)\n",
    "\n",
    "# For Industry Dataset\n",
    "Industry_df.columns = Industry_df.columns.str.upper().str.replace('_', ' ')\n",
    "print(Industry_df.columns)\n"
   ]
  },
  {
   "cell_type": "markdown",
   "metadata": {},
   "source": [
    "### 2. Handling Missing Values"
   ]
  },
  {
   "cell_type": "code",
   "execution_count": 47,
   "metadata": {},
   "outputs": [
    {
     "name": "stdout",
     "output_type": "stream",
     "text": [
      "JOB LINK               0\n",
      "LAST PROCESSED TIME    0\n",
      "GOT SUMMARY            0\n",
      "GOT NER                0\n",
      "IS BEING WORKED        0\n",
      "JOB TITLE              0\n",
      "COMPANY                1\n",
      "JOB LOCATION           0\n",
      "FIRST SEEN             0\n",
      "SEARCH CITY            0\n",
      "SEARCH COUNTRY         0\n",
      "SEARCH POSITION        0\n",
      "JOB LEVEL              0\n",
      "JOB TYPE               0\n",
      "dtype: int64\n",
      "JOB LINK               0\n",
      "LAST PROCESSED TIME    0\n",
      "GOT SUMMARY            0\n",
      "GOT NER                0\n",
      "IS BEING WORKED        0\n",
      "JOB TITLE              0\n",
      "COMPANY                0\n",
      "JOB LOCATION           0\n",
      "FIRST SEEN             0\n",
      "SEARCH CITY            0\n",
      "SEARCH COUNTRY         0\n",
      "SEARCH POSITION        0\n",
      "JOB LEVEL              0\n",
      "JOB TYPE               0\n",
      "dtype: int64\n",
      "COUNTRY NAME    0\n",
      "COUNTRY CODE    0\n",
      "YEAR            0\n",
      "VALUE           0\n",
      "dtype: int64\n",
      "COUNTRY NAME    0\n",
      "COUNTRY CODE    0\n",
      "YEAR            0\n",
      "VALUE           0\n",
      "dtype: int64\n",
      "UNNAMED: 0             0\n",
      "COUNTRY NAME           0\n",
      "INDUSTRY GROUP NAME    0\n",
      "YEAR                   0\n",
      "SKILL NAME             0\n",
      "IMPT RANK              0\n",
      "RANK DIFF              0\n",
      "HIGHEST SS             0\n",
      "CLOSEST SKILL          0\n",
      "dtype: int64\n",
      "UNNAMED: 0             0\n",
      "COUNTRY NAME           0\n",
      "INDUSTRY GROUP NAME    0\n",
      "YEAR                   0\n",
      "SKILL NAME             0\n",
      "IMPT RANK              0\n",
      "RANK DIFF              0\n",
      "HIGHEST SS             0\n",
      "CLOSEST SKILL          0\n",
      "dtype: int64\n"
     ]
    }
   ],
   "source": [
    "# Handling missing values\n",
    "\n",
    "#Checking for missing values in Job_Postings Dataset\n",
    "print(Job_Postings_df.isnull().sum())\n",
    "print((Job_Postings_df.apply(lambda x: x.astype(str).str.contains('Not Available', case=False, na=False))).sum())\n",
    "\n",
    "#Checking for missing values in GDP Dataset\n",
    "print(GDP_df.isnull().sum())\n",
    "print((GDP_df.apply(lambda x: x.astype(str).str.contains('Not Available', case=False, na=False))).sum())\n",
    "\n",
    "#checking for missing values in Industry Dataset\n",
    "print(Industry_df.isnull().sum())\n",
    "print((Industry_df.apply(lambda x: x.astype(str).str.contains('Not Available', case=False, na=False))).sum())\n"
   ]
  },
  {
   "cell_type": "code",
   "execution_count": 48,
   "metadata": {},
   "outputs": [
    {
     "name": "stdout",
     "output_type": "stream",
     "text": [
      "UNNAMED: 0             0\n",
      "COUNTRY NAME           0\n",
      "INDUSTRY GROUP NAME    0\n",
      "YEAR                   0\n",
      "SKILL NAME             0\n",
      "IMPT RANK              0\n",
      "RANK DIFF              0\n",
      "HIGHEST SS             0\n",
      "CLOSEST SKILL          0\n",
      "dtype: int64\n"
     ]
    }
   ],
   "source": [
    "#Since there are no Missing values in the datasets, check for not available values\n",
    "# Check for NaN values in the Industry_df\n",
    "print(Industry_df.isna().sum())\n",
    "\n",
    "# Replace NaN values with \"Not Available\"\n",
    "Industry_df = Industry_df.fillna(\"Not Available\")\n"
   ]
  },
  {
   "cell_type": "markdown",
   "metadata": {},
   "source": [
    " ### 3. IQR-based Outlier Detection for GDP Dataset value\n",
    " \n",
    "**Why Outlier Detection?**\n",
    "Despite the fact that there are no missing values in the datasets (as we confirmed earlier), I still suspect that some extreme or anomalous values might exist, especially in the `GDP` dataset. These outliers can result from data entry errors, misreporting, or extraordinary economic events, and could significantly impact analysis and predictions.\n",
    "\n",
    "In this analysis:\n",
    "- **For the GDP dataset**, IQR is used to detect extreme values in the `value` column (GDP values for each year). Outliers are important to identify and handle to ensure that the dataset reflects realistic economic data.\n"
   ]
  },
  {
   "cell_type": "code",
   "execution_count": 49,
   "metadata": {},
   "outputs": [],
   "source": [
    "# GDP Dataset - IQR for 'value'\n",
    "Q1_GDP = GDP_df['VALUE'].quantile(0.25)\n",
    "Q3_GDP = GDP_df['VALUE'].quantile(0.75)\n",
    "IQR_GDP = Q3_GDP - Q1_GDP\n",
    "lower_bound_GDP = Q1_GDP - 1.5 * IQR_GDP\n",
    "upper_bound_GDP = Q3_GDP + 1.5 * IQR_GDP\n",
    "\n",
    "# Filter outliers for GDP\n",
    "outliers_GDP = GDP_df[(GDP_df['VALUE'] < lower_bound_GDP) | (GDP_df['VALUE'] > upper_bound_GDP)]\n",
    "\n",
    "#Found Outliers\n",
    "\n",
    "# Dropping outliers from the GDP DataFrame\n",
    "GDP_cleaned_df = GDP_df[(GDP_df['VALUE'] >= lower_bound_GDP) & (GDP_df['VALUE'] <= upper_bound_GDP)]\n",
    "\n",
    "\n"
   ]
  },
  {
   "cell_type": "markdown",
   "metadata": {},
   "source": [
    "### 4. Converting Data Types where neccessary "
   ]
  },
  {
   "cell_type": "code",
   "execution_count": 50,
   "metadata": {},
   "outputs": [
    {
     "name": "stdout",
     "output_type": "stream",
     "text": [
      "JOB LINK                            object\n",
      "LAST PROCESSED TIME    datetime64[ns, UTC]\n",
      "GOT SUMMARY                         object\n",
      "GOT NER                             object\n",
      "IS BEING WORKED                       bool\n",
      "JOB TITLE                           object\n",
      "COMPANY                             object\n",
      "JOB LOCATION                        object\n",
      "FIRST SEEN                  datetime64[ns]\n",
      "SEARCH CITY                         object\n",
      "SEARCH COUNTRY                      object\n",
      "SEARCH POSITION                     object\n",
      "JOB LEVEL                           object\n",
      "JOB TYPE                            object\n",
      "dtype: object\n",
      "COUNTRY NAME     object\n",
      "COUNTRY CODE     object\n",
      "YEAR              int32\n",
      "VALUE           float64\n",
      "dtype: object\n",
      "UNNAMED: 0               int64\n",
      "COUNTRY NAME            object\n",
      "INDUSTRY GROUP NAME     object\n",
      "YEAR                     int32\n",
      "SKILL NAME              object\n",
      "IMPT RANK                int32\n",
      "RANK DIFF              float64\n",
      "HIGHEST SS             float64\n",
      "CLOSEST SKILL           object\n",
      "dtype: object\n"
     ]
    }
   ],
   "source": [
    "# For Job_Postings_df\n",
    "Job_Postings_df['LAST PROCESSED TIME'] = pd.to_datetime(Job_Postings_df['LAST PROCESSED TIME'], errors='coerce')\n",
    "Job_Postings_df['FIRST SEEN'] = pd.to_datetime(Job_Postings_df['FIRST SEEN'], errors='coerce')\n",
    "Job_Postings_df['IS BEING WORKED'] = Job_Postings_df['IS BEING WORKED'].astype(bool)\n",
    "\n",
    "# For GDP_df\n",
    "GDP_df['YEAR'] = GDP_df['YEAR'].astype(int)  # Ensuring 'year' is an integer\n",
    "GDP_df['VALUE'] = pd.to_numeric(GDP_df['VALUE'], errors='coerce')  # Ensure 'value' is numeric\n",
    "\n",
    "# For Industry_df\n",
    "Industry_df['YEAR'] = Industry_df['YEAR'].astype(int)  # Ensuring 'year' is an integer\n",
    "Industry_df['IMPT RANK'] = Industry_df['IMPT RANK'].astype(int)  # Ensure 'impt rank' is an integer\n",
    "Industry_df['RANK DIFF'] = pd.to_numeric(Industry_df['RANK DIFF'], errors='coerce')  # Ensure 'rank diff' is numeric\n",
    "Industry_df['HIGHEST SS'] = pd.to_numeric(Industry_df['HIGHEST SS'], errors='coerce')  # Ensure 'highest ss' is numeric\n",
    "\n",
    "#verifying data types\n",
    "print(Job_Postings_df.dtypes)\n",
    "print(GDP_df.dtypes)\n",
    "print(Industry_df.dtypes)\n",
    "\n"
   ]
  },
  {
   "cell_type": "markdown",
   "metadata": {},
   "source": [
    "### 5. Removing Duplicates"
   ]
  },
  {
   "cell_type": "code",
   "execution_count": 51,
   "metadata": {},
   "outputs": [
    {
     "name": "stdout",
     "output_type": "stream",
     "text": [
      "Duplicates in Job_Postings_df: 0\n",
      "Duplicates in GDP_df: 0\n",
      "Duplicates in Industry_df: 0\n",
      "Job_Postings_df: 0\n",
      "GDP_df: 0\n",
      "Industry_df: 0\n"
     ]
    }
   ],
   "source": [
    "print(\"Duplicates in Job_Postings_df:\", Job_Postings_df.duplicated().sum())\n",
    "print(\"Duplicates in GDP_df:\", GDP_df.duplicated().sum())\n",
    "print(\"Duplicates in Industry_df:\", Industry_df.duplicated().sum())\n",
    "\n",
    "#removing duplicates based on specific columns\n",
    "Job_Postings_df = Job_Postings_df.drop_duplicates(subset=['JOB LINK', 'JOB TITLE', 'COMPANY', 'JOB LOCATION'])\n",
    "GDP_df = GDP_df.drop_duplicates(subset=['COUNTRY NAME', 'YEAR', 'VALUE'])\n",
    "Industry_df = Industry_df.drop_duplicates(subset=['COUNTRY NAME', 'INDUSTRY GROUP NAME', 'YEAR', 'IMPT RANK'])\n",
    "\n",
    "#After removing duplicates (should be 0)\n",
    "print(\"Job_Postings_df:\", Job_Postings_df.duplicated().sum())\n",
    "print(\"GDP_df:\", GDP_df.duplicated().sum())\n",
    "print(\"Industry_df:\", Industry_df.duplicated().sum())\n"
   ]
  },
  {
   "cell_type": "markdown",
   "metadata": {},
   "source": [
    "### Data wrangling"
   ]
  },
  {
   "cell_type": "markdown",
   "metadata": {},
   "source": [
    "### 1. Handling Unique Job Titles\n",
    "- Extracted unique job titles from `Job_Postings_df`:\n",
    "  - Sorted the titles alphabetically for better readability.\n",
    "  - Mapped job titles to numerical codes, creating a new column `Job Title Code`.\n",
    "  - Verified the mapping to ensure no duplicate job titles had different codes.\n",
    "\n",
    "### 2. Enhancing Industry Data\n",
    "- Combined `INDUSTRY GROUP NAME` and `SKILL NAME` columns into a new column `INDUSTRY SKILL` for more concise representation.\n",
    "- Dropped the redundant columns `INDUSTRY GROUP NAME` and `SKILL NAME`.\n",
    "- Created a flag column `HIGH IMPORTANCE` to indicate whether a skill's importance rank (`IMPT RANK`) was 5 or below.\n",
    "\n",
    "### 3. Filtering by Countries\n",
    "- Identified unique countries in the `SEARCH COUNTRY` column of `Job_Postings_df`.\n",
    "- Selected specific target countries for further analysis: United States, United Kingdom, Canada, and Australia.\n",
    "- Filtered `GDP_df` and `Industry_df` to include only rows related to the target countries.\n",
    "\n",
    "### 4. Cleaning and Standardizing Columns\n",
    "- Removed extra spaces and standardized column names in `GDP_df_filtered` and `Industry_df_filtered`.\n",
    "- Renamed `COUNTRY NAME` to `SEARCH COUNTRY` for consistency across datasets.\n",
    "- Standardized the `SEARCH COUNTRY` values to uppercase format.\n",
    "\n",
    "### 5. Merging Datasets\n",
    "- Merged `GDP_df_filtered` and `Industry_df_filtered` on the `SEARCH COUNTRY` column.\n",
    "- Renamed overlapping columns from the merge:\n",
    "  - `YEAR_x` became `YEAR`.\n",
    "  - `YEAR_y` became `YEAR Industry`.\n",
    "\n",
    "### 6. Final Dataset\n",
    "- Created a merged dataset named `GDP_Industry_merged`, ready for advanced analysis and visualization.\n",
    "- Verified the merge by inspecting column names and sample rows.\n"
   ]
  },
  {
   "cell_type": "markdown",
   "metadata": {},
   "source": [
    "### 1. Creating at least one new column\n",
    "I'm making a new column that gives each job function a number code or index. This can assist in more systematically classifying and filtering roles that are similar."
   ]
  },
  {
   "cell_type": "code",
   "execution_count": 52,
   "metadata": {},
   "outputs": [
    {
     "name": "stdout",
     "output_type": "stream",
     "text": [
      "Unique Job Titles:\n",
      "\"Telephonic\" Nurse Case Manager II at Elevance Health\n",
      "#1828 - Secretary III Bilingual Preferred\n",
      "$100K Commencement Bonus | General Orthopedic Surgeon | Employed Position Joining Large MSG | Scranton, PA\n",
      "$110k/year  Bonus - Senior Financial Analyst\n",
      "$15/Hr Experienced Shift Manager\n",
      "$20-$25 Assistant Manager\n",
      "$30,000 Sign On Bonus - Registered Nurse Case Manager - RN - Home Health\n",
      "$50,000 Sign On Bonus - Breast Surgeon to Work and Live in Beautiful Lakeside Community!\n",
      "$50,000 Sign On Bonus - Registered Nurse Case Manager - RN - Home Health at AccentCare, Inc.\n",
      "$50,000 Sign On Bonus - Registered Nurse Case Manager - RN Home Health\n"
     ]
    }
   ],
   "source": [
    "# Gets unique job titles from the 'Job Title' column\n",
    "unique_job_titles = Job_Postings_df['JOB TITLE'].unique()\n",
    "\n",
    "# I want to display the unique job titles in a sorted manner:\n",
    "unique_job_titles_sorted = sorted(unique_job_titles)\n",
    "\n",
    "# Display the unique job titles\n",
    "print(\"Unique Job Titles:\")\n",
    "for title in unique_job_titles_sorted[:10]:\n",
    "    print(title)\n"
   ]
  },
  {
   "cell_type": "code",
   "execution_count": 53,
   "metadata": {},
   "outputs": [
    {
     "name": "stdout",
     "output_type": "stream",
     "text": [
      "                                            JOB TITLE  Job Title Code\n",
      "0   Account Executive - Dispensing (NorCal/Norther...               0\n",
      "1                  Registered Nurse - RN Care Manager               1\n",
      "2                RESTAURANT SUPERVISOR - THE FORKLIFT               2\n",
      "3                       Independent Real Estate Agent               3\n",
      "4   Group/Unit Supervisor (Systems Support Manager...               4\n",
      "5                                  Counselor-07532802               5\n",
      "6                               Registered Nurse (RN)               6\n",
      "7                            Part Time- HR Generalist               7\n",
      "8                                       Store Manager               8\n",
      "9                     Engineering Project Coordinator               9\n",
      "10                Special Agent: Law/Legal Background              10\n",
      "11                           Manager, Site Operations              11\n",
      "12  Assistant Vice President Behavioral Health Sci...              12\n",
      "13               Control Systems Integration Engineer              13\n",
      "14                            LEAD SALES ASSOCIATE-PT              14\n",
      "15                      Entry-Level Financial Advisor              15\n",
      "16            Senior Associate, Tax - Product Analyst              16\n",
      "17                         Human Resources Generalist              17\n",
      "18                        Supervisor - Horticulturist              18\n",
      "19  Analyst, Associate Plan Configuration & Qualit...              19\n"
     ]
    }
   ],
   "source": [
    "# Creating a mapping of job titles (job functions) to numerical codes\n",
    "job_function_mapping = {title: code for code, title in enumerate(Job_Postings_df['JOB TITLE'].unique())}\n",
    "\n",
    "# Apply the mapping to the 'JOB TITLE' column to create the 'Job Title Code' column\n",
    "Job_Postings_df['Job Title Code'] = Job_Postings_df['JOB TITLE'].map(job_function_mapping)\n",
    "\n",
    "# Displaying the DataFrame with the new 'Job Title Code' column\n",
    "print(Job_Postings_df[['JOB TITLE', 'Job Title Code']].head(20))\n"
   ]
  },
  {
   "cell_type": "code",
   "execution_count": 54,
   "metadata": {},
   "outputs": [
    {
     "name": "stdout",
     "output_type": "stream",
     "text": [
      "Series([], Name: Job Title Code, dtype: int64)\n"
     ]
    }
   ],
   "source": [
    "#VERIFYING\n",
    "# Checking for duplicate job titles with different numerical codes\n",
    "duplicates_check = Job_Postings_df.groupby('JOB TITLE')['Job Title Code'].nunique()\n",
    "\n",
    "# Display job titles that have more than one code assigned\n",
    "print(duplicates_check[duplicates_check > 1])\n"
   ]
  },
  {
   "cell_type": "markdown",
   "metadata": {},
   "source": [
    "### 2. Combining at least two columns\n"
   ]
  },
  {
   "cell_type": "code",
   "execution_count": 55,
   "metadata": {},
   "outputs": [
    {
     "name": "stdout",
     "output_type": "stream",
     "text": [
      "Index(['UNNAMED: 0', 'COUNTRY NAME', 'INDUSTRY GROUP NAME', 'YEAR',\n",
      "       'SKILL NAME', 'IMPT RANK', 'RANK DIFF', 'HIGHEST SS', 'CLOSEST SKILL',\n",
      "       'INDUSTRY SKILL'],\n",
      "      dtype='object')\n",
      "Index(['UNNAMED: 0', 'COUNTRY NAME', 'YEAR', 'IMPT RANK', 'RANK DIFF',\n",
      "       'HIGHEST SS', 'CLOSEST SKILL', 'INDUSTRY SKILL'],\n",
      "      dtype='object')\n"
     ]
    }
   ],
   "source": [
    "# Combining Industry Group Name and Skill Name\n",
    "Industry_df['INDUSTRY SKILL'] = Industry_df['INDUSTRY GROUP NAME'] + ' - ' + Industry_df['SKILL NAME']\n",
    "print(Industry_df.columns)\n",
    "\n",
    "# Drop the 'INDUSTRY GROUP NAME' and 'SKILL NAME' columns\n",
    "Industry_df = Industry_df.drop(columns=['INDUSTRY GROUP NAME', 'SKILL NAME'])\n",
    "print(Industry_df.columns)\n",
    "\n",
    "\n",
    "\n"
   ]
  },
  {
   "cell_type": "markdown",
   "metadata": {},
   "source": [
    "### 3. Creating a flag called high importance skills\n",
    "This will add a new column called 'High_Importance' that flags whether the skill has an importance rank of 5 or less."
   ]
  },
  {
   "cell_type": "code",
   "execution_count": 56,
   "metadata": {},
   "outputs": [
    {
     "name": "stdout",
     "output_type": "stream",
     "text": [
      "    IMPT RANK HIGH IMPORTANCE\n",
      "0           1             Yes\n",
      "1           2             Yes\n",
      "2           3             Yes\n",
      "3           4             Yes\n",
      "4           5             Yes\n",
      "5           6              No\n",
      "6           7              No\n",
      "7           8              No\n",
      "8           9              No\n",
      "9          10              No\n",
      "10          1             Yes\n",
      "11          2             Yes\n",
      "12          3             Yes\n",
      "13          4             Yes\n",
      "14          5             Yes\n",
      "15          6              No\n",
      "16          7              No\n",
      "17          8              No\n",
      "18          9              No\n",
      "19         10              No\n",
      "Index(['JOB LINK', 'LAST PROCESSED TIME', 'GOT SUMMARY', 'GOT NER',\n",
      "       'IS BEING WORKED', 'JOB TITLE', 'COMPANY', 'JOB LOCATION', 'FIRST SEEN',\n",
      "       'SEARCH CITY', 'SEARCH COUNTRY', 'SEARCH POSITION', 'JOB LEVEL',\n",
      "       'JOB TYPE', 'Job Title Code'],\n",
      "      dtype='object')\n"
     ]
    }
   ],
   "source": [
    "# Create a flag for high importance skills\n",
    "Industry_df['HIGH IMPORTANCE'] = Industry_df['IMPT RANK'].apply(lambda x: 'Yes' if x <= 5 else 'No')\n",
    "\n",
    "# Preview the new column\n",
    "print(Industry_df[['IMPT RANK', 'HIGH IMPORTANCE']].head(20))\n",
    "print(Job_Postings_df.columns)\n"
   ]
  },
  {
   "cell_type": "markdown",
   "metadata": {},
   "source": [
    "Now I want to know what are the countries present in the Job postings dataset in order to match them with the GDP Dataset and Industry Dataset "
   ]
  },
  {
   "cell_type": "code",
   "execution_count": 57,
   "metadata": {},
   "outputs": [
    {
     "name": "stdout",
     "output_type": "stream",
     "text": [
      "Index(['JOB LINK', 'LAST PROCESSED TIME', 'GOT SUMMARY', 'GOT NER',\n",
      "       'IS BEING WORKED', 'JOB TITLE', 'COMPANY', 'JOB LOCATION', 'FIRST SEEN',\n",
      "       'SEARCH CITY', 'SEARCH COUNTRY', 'SEARCH POSITION', 'JOB LEVEL',\n",
      "       'JOB TYPE', 'Job Title Code'],\n",
      "      dtype='object')\n",
      "Number of countries: 4\n",
      "Countries:\n",
      "['United States' 'United Kingdom' 'Canada' 'Australia']\n"
     ]
    }
   ],
   "source": [
    "# Check the column name that holds the country information\n",
    "print(Job_Postings_df.columns)\n",
    "\n",
    "# Extract unique country names\n",
    "unique_countries = Job_Postings_df['SEARCH COUNTRY'].unique()\n",
    "\n",
    "# Display the unique country names\n",
    "print(f\"Number of countries: {len(unique_countries)}\")\n",
    "print(\"Countries:\")\n",
    "print(unique_countries)\n"
   ]
  },
  {
   "cell_type": "markdown",
   "metadata": {},
   "source": [
    "Now that I have figured that the job posting dataset has only for 4 countries which is United States, United Kingdom, Canada and Australia I aim to extract GDP data only for these countries and drop all the rest of the rows"
   ]
  },
  {
   "cell_type": "code",
   "execution_count": 58,
   "metadata": {},
   "outputs": [
    {
     "name": "stdout",
     "output_type": "stream",
     "text": [
      "Number of rows in filtered GDP data: 256\n",
      "Unique countries in filtered GDP data:\n",
      "['Australia' 'Canada' 'United Kingdom' 'United States']\n",
      "['Australia' 'Canada' 'United Kingdom' 'United States']\n",
      "Remaining countries after dropping others:\n",
      "['Australia' 'Canada' 'United Kingdom' 'United States']\n",
      "   UNNAMED: 0 COUNTRY NAME  YEAR  IMPT RANK  RANK DIFF  HIGHEST SS  \\\n",
      "0           0    Australia  2021          1        0.0  100.000000   \n",
      "1           1    Australia  2021          2        NaN   94.646519   \n",
      "2           2    Australia  2021          3       -1.0  100.000000   \n",
      "3           3    Australia  2021          4        NaN   93.012886   \n",
      "4           4    Australia  2021          5       -1.0  100.000000   \n",
      "\n",
      "             CLOSEST SKILL                         INDUSTRY SKILL  \\\n",
      "0              Agriculture              Agriculture - Agriculture   \n",
      "1                    Farms                Agriculture - Livestock   \n",
      "2             Agribusiness             Agriculture - Agribusiness   \n",
      "3              Agriculture  Agriculture - Agricultural Production   \n",
      "4  Sustainable Agriculture  Agriculture - Sustainable Agriculture   \n",
      "\n",
      "  HIGH IMPORTANCE  \n",
      "0             Yes  \n",
      "1             Yes  \n",
      "2             Yes  \n",
      "3             Yes  \n",
      "4             Yes  \n"
     ]
    }
   ],
   "source": [
    "# List of countries to keep\n",
    "target_countries = ['United States', 'United Kingdom', 'Canada', 'Australia']\n",
    "\n",
    "# Filtering GDP_df to include only rows for the target countries\n",
    "GDP_df_filtered = GDP_df[GDP_df['COUNTRY NAME'].isin(target_countries)]\n",
    "Industry_df_filtered = Industry_df[Industry_df['COUNTRY NAME'].isin(target_countries)]\n",
    "\n",
    "# Verifying the filtered DataFrame\n",
    "print(f\"Number of rows in filtered GDP data: {GDP_df_filtered.shape[0]}\")\n",
    "print(\"Unique countries in filtered GDP data:\")\n",
    "print(GDP_df_filtered['COUNTRY NAME'].unique())\n",
    "print(Industry_df_filtered['COUNTRY NAME'].unique()) \n",
    "\n",
    "\n",
    "# Dropping rows for non-target countries (this is redundant after filtering)\n",
    "GDP_df_filtered = GDP_df_filtered.drop(\n",
    "    GDP_df_filtered[~GDP_df_filtered['COUNTRY NAME'].isin(target_countries)].index\n",
    ")\n",
    "Industry_cleaned = Industry_df_filtered[Industry_df_filtered['COUNTRY NAME'].isin(target_countries)]\n",
    "assert all(Industry_cleaned['COUNTRY NAME'].isin(target_countries)), \"Unexpected countries found!\"\n",
    "\n",
    "# Confirming there are no other countries\n",
    "print(\"Remaining countries after dropping others:\")\n",
    "print(GDP_df_filtered['COUNTRY NAME'].unique())\n",
    "\n",
    "# Verifying\n",
    "print(Industry_df_filtered.head())\n",
    "\n",
    "#NOW THE NEW DATASET NAMES ARE: \n",
    "#Job_Postings_df\n",
    "# GDP AND Industry merged dataset = GDP_Industry_merged\n",
    "\n",
    "\n"
   ]
  },
  {
   "cell_type": "markdown",
   "metadata": {},
   "source": [
    "## 4. MERGING THE DATASETS \n",
    "\n",
    "### 4.1 MERGING GDP_Dataset and Industry_Dataset"
   ]
  },
  {
   "cell_type": "markdown",
   "metadata": {},
   "source": [
    "I can now match two datasets such as GDP_df and Industry_df using the column column **SEARCH COUNTRY** after cleaning."
   ]
  },
  {
   "cell_type": "code",
   "execution_count": 59,
   "metadata": {},
   "outputs": [
    {
     "name": "stdout",
     "output_type": "stream",
     "text": [
      "Index(['SEARCH COUNTRY', 'COUNTRY CODE', 'YEAR', 'VALUE', 'UNNAMED: 0',\n",
      "       'YEAR Industry', 'IMPT RANK', 'RANK DIFF', 'HIGHEST SS',\n",
      "       'CLOSEST SKILL', 'INDUSTRY SKILL', 'HIGH IMPORTANCE'],\n",
      "      dtype='object')\n",
      "  SEARCH COUNTRY COUNTRY CODE  YEAR         VALUE  UNNAMED: 0  YEAR Industry  \\\n",
      "0      AUSTRALIA          AUS  1960  1.860656e+10           0           2021   \n",
      "1      AUSTRALIA          AUS  1960  1.860656e+10           1           2021   \n",
      "2      AUSTRALIA          AUS  1960  1.860656e+10           2           2021   \n",
      "3      AUSTRALIA          AUS  1960  1.860656e+10           3           2021   \n",
      "4      AUSTRALIA          AUS  1960  1.860656e+10           4           2021   \n",
      "\n",
      "   IMPT RANK  RANK DIFF  HIGHEST SS            CLOSEST SKILL  \\\n",
      "0          1        0.0  100.000000              Agriculture   \n",
      "1          2        NaN   94.646519                    Farms   \n",
      "2          3       -1.0  100.000000             Agribusiness   \n",
      "3          4        NaN   93.012886              Agriculture   \n",
      "4          5       -1.0  100.000000  Sustainable Agriculture   \n",
      "\n",
      "                          INDUSTRY SKILL HIGH IMPORTANCE  \n",
      "0              Agriculture - Agriculture             Yes  \n",
      "1                Agriculture - Livestock             Yes  \n",
      "2             Agriculture - Agribusiness             Yes  \n",
      "3  Agriculture - Agricultural Production             Yes  \n",
      "4  Agriculture - Sustainable Agriculture             Yes  \n"
     ]
    }
   ],
   "source": [
    "# Ensuring no extra spaces and standardize column names\n",
    "GDP_df_filtered = GDP_df_filtered.copy()  # Ensure it's a new DataFrame\n",
    "Industry_df_filtered = Industry_df_filtered.copy()  # Ensure it's a new DataFrame\n",
    "\n",
    "GDP_df_filtered.columns = GDP_df_filtered.columns.str.strip()\n",
    "Industry_df_filtered.columns = Industry_df_filtered.columns.str.strip()\n",
    "\n",
    "# Renaming columns for consistency\n",
    "GDP_df_filtered.rename(columns={'COUNTRY NAME': 'SEARCH COUNTRY'}, inplace=True)\n",
    "Industry_df_filtered.rename(columns={'COUNTRY NAME': 'SEARCH COUNTRY'}, inplace=True)\n",
    "\n",
    "# Standardizing SEARCH COUNTRY values\n",
    "GDP_df_filtered['SEARCH COUNTRY'] = GDP_df_filtered['SEARCH COUNTRY'].str.strip().str.upper()\n",
    "Industry_df_filtered['SEARCH COUNTRY'] = Industry_df_filtered['SEARCH COUNTRY'].str.strip().str.upper()\n",
    "\n",
    "# Performing the merge\n",
    "GDP_Industry_merged = pd.merge(\n",
    "    GDP_df_filtered,\n",
    "    Industry_df_filtered,\n",
    "    on='SEARCH COUNTRY',\n",
    "    how='left'  # Adjust as needed\n",
    ")\n",
    "\n",
    "# Handling overlapping columns\n",
    "GDP_Industry_merged.rename(columns={'YEAR_x': 'YEAR', 'YEAR_y': 'YEAR Industry'}, inplace=True)\n",
    "\n",
    "# Verifying the result\n",
    "print(GDP_Industry_merged.columns)\n",
    "print(GDP_Industry_merged.head())\n"
   ]
  },
  {
   "cell_type": "markdown",
   "metadata": {},
   "source": [
    "### Now the merging is successful between GDP_df and Industry_df. "
   ]
  },
  {
   "cell_type": "code",
   "execution_count": 60,
   "metadata": {},
   "outputs": [],
   "source": [
    "#Merging the primary dataset with the merged GDP and Industry Dataset\n",
    "# Load the datasets into Dask DataFrames\n",
    "#Job_Postings_df = dd.from_pandas(Job_Postings_df, npartitions=4)\n",
    "#GDP_Industry_merged = dd.from_pandas(GDP_Industry_merged, npartitions=4)\n",
    "\n",
    "# Perform the merge operation\n",
    "#Final_Job_Postings_Merged = dd.merge(\n",
    "  #  Job_Postings_df,\n",
    "   # GDP_Industry_merged,\n",
    "    # on='SEARCH COUNTRY',\n",
    "    # how='left'\n",
    "#)\n",
    "\n",
    "# Convert the result back to a Pandas DataFrame\n",
    "#Final_Job_Postings_Merged = Final_Job_Postings_Merged.compute()\n",
    "\n",
    "# Display the result\n",
    "#print(Final_Job_Postings_Merged.head())\n"
   ]
  },
  {
   "cell_type": "markdown",
   "metadata": {},
   "source": [
    "# Analyzing Datasets Separately: A Practical Approach\n",
    "\n",
    "I successfully merged two of the three datasets, When I tried to merge Job_Postings_df with the merged dataset which is GDP_Industry_merged, I have encountered a memory error. Despite attempting to resolve the issue using Dask, I was unable to overcome the memory limitations and my kernel wad dead couple of times. As a result, I decided to analyze the datasets separately to avoid dropping or losing valuable information that might be useful for further analysis. This approach helps ensure data integrity while still enabling thorough analysis without running into memory constraints.\n"
   ]
  },
  {
   "cell_type": "markdown",
   "metadata": {},
   "source": [
    "![Dataset Overview](https://github.com/Prasema/Business-Analytics-Individual-A/blob/main/Screenshot%202025-01-13%20003734.png)\n"
   ]
  },
  {
   "cell_type": "markdown",
   "metadata": {},
   "source": [
    "## Data analysis"
   ]
  },
  {
   "cell_type": "markdown",
   "metadata": {},
   "source": [
    "### 1. MultiIndexing (Concept derived from Course material) and High-Importance Skills\n",
    "- Created a MultiIndex DataFrame (`GDP_Industry_MultiIndex`) indexed by `SEARCH COUNTRY` and `INDUSTRY SKILL`.\n",
    "- Filtered for high-importance skills (`HIGH IMPORTANCE == 'Yes'`) and sorted them by `IMPT RANK` (lower rank = higher importance).\n",
    "- Reset the index for easier manipulation and access to `SEARCH COUNTRY`.\n",
    "\n",
    "\n",
    "### 2. Analysis of Job Titles\n",
    "- Analyzed the top 10 most common job titles from the `JOB TITLE` column.\n",
    "- Converted the results into a DataFrame for potential visualization.\n",
    "\n",
    "### 3. Cleaning and Checking Country Names\n",
    "- Verified the uniqueness of country names in the `SEARCH COUNTRY` column to identify discrepancies.\n",
    "- Standardized country names (stripped spaces and converted to lowercase) for consistency.\n",
    "\n",
    "### 4. United Kingdom GDP and Skills\n",
    "- Filtered the GDP data to include only the United Kingdom.\n",
    "- Analyzed GDP growth by summing GDP values grouped by year.\n",
    "- Isolated high-importance skills for the UK, sorted by importance rank, and extracted the top 20 demanded skills.\n",
    "\n",
    "### 5. United Kingdom Job Analysis\n",
    "- Filtered job postings for the United Kingdom.\n",
    "- Identified the top 5 job locations by the number of postings.\n",
    "- Filtered the dataset to include jobs from these locations and grouped data by `JOB LOCATION` and `JOB TITLE`.\n",
    "\n",
    "### Key Results\n",
    "- **Top GDP Countries**: High-importance skills and top-demanded skills were identified for the five countries with the highest GDP.\n",
    "- **United Kingdom Insights**:\n",
    "  - **GDP Growth**: Displayed yearly trends in the UK's GDP.\n",
    "  - **Demanded Skills**: Highlighted the top 20 high-importance skills in the UK.\n",
    "  - **Job Locations and Titles**: Analyzed job trends in the top 5 UK locations with the most postings.\n",
    "\n",
    "### Next Steps\n",
    "- Use the processed data for visualizations, such as bar plots and heatmaps, to present insights effectively.\n",
    "- Further refine filtering criteria to include specific time periods or industries for detailed analysis.\n"
   ]
  },
  {
   "cell_type": "markdown",
   "metadata": {},
   "source": [
    "### 1. Industry Growth in Top GDP Countries\n"
   ]
  },
  {
   "cell_type": "code",
   "execution_count": 77,
   "metadata": {},
   "outputs": [
    {
     "name": "stdout",
     "output_type": "stream",
     "text": [
      "   SEARCH COUNTRY                        INDUSTRY SKILL COUNTRY CODE  YEAR  \\\n",
      "0       australia             Agriculture - Agriculture          AUS  1960   \n",
      "1  united kingdom      Entertainment - Music Production          GBR  2008   \n",
      "2       australia       Entertainment - Film Production          AUS  1996   \n",
      "3          canada           Recreation & Travel - WHMIS          CAN  1989   \n",
      "4  united kingdom  Energy & Mining - Oil & Gas Industry          GBR  1982   \n",
      "\n",
      "          VALUE  UNNAMED: 0  YEAR Industry  IMPT RANK  RANK DIFF  HIGHEST SS  \\\n",
      "0  1.860656e+10           0           2021          1        0.0  100.000000   \n",
      "1  2.929412e+12        5170           2021          1        NaN   97.373871   \n",
      "2  4.013419e+11          80           2021          1        8.0  100.000000   \n",
      "3  5.672120e+11         670           2021          1        NaN   68.332389   \n",
      "4  5.150489e+11        5160           2021          1        NaN   97.612494   \n",
      "\n",
      "     CLOSEST SKILL HIGH IMPORTANCE  \n",
      "0      Agriculture             Yes  \n",
      "1   Music Industry             Yes  \n",
      "2  Film Production             Yes  \n",
      "3  Time Management             Yes  \n",
      "4        Oil & Gas             Yes  \n"
     ]
    }
   ],
   "source": [
    "# MultiIndexing DataFrame with 'SEARCH COUNTRY' and 'INDUSTRY SKILL'\n",
    "GDP_Industry_MultiIndex = GDP_Industry_merged.set_index(['SEARCH COUNTRY', 'INDUSTRY SKILL'])\n",
    "\n",
    "# Filtering for 'HIGH IMPORTANCE' skills\n",
    "high_importance_skills = GDP_Industry_MultiIndex[GDP_Industry_MultiIndex['HIGH IMPORTANCE'] == 'Yes']\n",
    "\n",
    "# Sorting the skills based on 'IMPT RANK' (we assume lower rank means higher importance)\n",
    "high_importance_skills_sorted = high_importance_skills.sort_values(by='IMPT RANK')\n",
    "\n",
    "# Reseting index to access 'SEARCH COUNTRY' easily\n",
    "high_importance_skills_sorted = high_importance_skills_sorted.reset_index()\n",
    "\n",
    "# Getting the top 5 GDP countries\n",
    "top_gdp_countries = GDP_Industry_MultiIndex['VALUE'].groupby('SEARCH COUNTRY').sum().sort_values(ascending=False).index[:5]\n",
    "\n",
    "# Filtering for the top 5 GDP countries and their high importance skills\n",
    "top_5_gdp_skills = high_importance_skills_sorted[high_importance_skills_sorted['SEARCH COUNTRY'].isin(top_gdp_countries)]\n",
    "\n",
    "# Now we select the top demanded skills based on the rank for each country (e.g., top 20 skills)\n",
    "top_20_demanded_skills = top_5_gdp_skills.groupby('SEARCH COUNTRY').head(20)\n",
    "\n",
    "# Checking the first few rows of the filtered data to ensure correctness\n",
    "print(top_20_demanded_skills.head())\n"
   ]
  },
  {
   "cell_type": "markdown",
   "metadata": {},
   "source": [
    "### 2. Companies and Countries with the Most Job Postings"
   ]
  },
  {
   "cell_type": "markdown",
   "metadata": {},
   "source": [
    "### 2.1 Aggregate Job Postings by Country and Company\n"
   ]
  },
  {
   "cell_type": "code",
   "execution_count": 62,
   "metadata": {},
   "outputs": [
    {
     "data": {
      "text/html": [
       "<div>\n",
       "<style scoped>\n",
       "    .dataframe tbody tr th:only-of-type {\n",
       "        vertical-align: middle;\n",
       "    }\n",
       "\n",
       "    .dataframe tbody tr th {\n",
       "        vertical-align: top;\n",
       "    }\n",
       "\n",
       "    .dataframe thead th {\n",
       "        text-align: right;\n",
       "    }\n",
       "</style>\n",
       "<table border=\"1\" class=\"dataframe\">\n",
       "  <thead>\n",
       "    <tr style=\"text-align: right;\">\n",
       "      <th></th>\n",
       "      <th>SEARCH COUNTRY</th>\n",
       "      <th>COMPANY</th>\n",
       "      <th>total_job_postings</th>\n",
       "    </tr>\n",
       "  </thead>\n",
       "  <tbody>\n",
       "    <tr>\n",
       "      <th>0</th>\n",
       "      <td>Australia</td>\n",
       "      <td>369 Recruit</td>\n",
       "      <td>2</td>\n",
       "    </tr>\n",
       "    <tr>\n",
       "      <th>1</th>\n",
       "      <td>Australia</td>\n",
       "      <td>3M</td>\n",
       "      <td>1</td>\n",
       "    </tr>\n",
       "    <tr>\n",
       "      <th>2</th>\n",
       "      <td>Australia</td>\n",
       "      <td>AAG Infrastructure</td>\n",
       "      <td>1</td>\n",
       "    </tr>\n",
       "    <tr>\n",
       "      <th>3</th>\n",
       "      <td>Australia</td>\n",
       "      <td>ACRWORLD</td>\n",
       "      <td>3</td>\n",
       "    </tr>\n",
       "    <tr>\n",
       "      <th>4</th>\n",
       "      <td>Australia</td>\n",
       "      <td>ACT Government</td>\n",
       "      <td>2</td>\n",
       "    </tr>\n",
       "  </tbody>\n",
       "</table>\n",
       "</div>"
      ],
      "text/plain": [
       "  SEARCH COUNTRY             COMPANY  total_job_postings\n",
       "0      Australia         369 Recruit                   2\n",
       "1      Australia                  3M                   1\n",
       "2      Australia  AAG Infrastructure                   1\n",
       "3      Australia            ACRWORLD                   3\n",
       "4      Australia      ACT Government                   2"
      ]
     },
     "execution_count": 62,
     "metadata": {},
     "output_type": "execute_result"
    }
   ],
   "source": [
    "# Aggregating job postings by 'SEARCH COUNTRY' and 'COMPANY' (count the number of job postings)\n",
    "aggregated_data = Job_Postings_df.groupby(['SEARCH COUNTRY', 'COMPANY']).size().reset_index(name='total_job_postings')\n",
    "\n",
    "# Inspecting the first few rows to confirm the aggregation\n",
    "aggregated_data.head()\n",
    "\n",
    "\n"
   ]
  },
  {
   "cell_type": "markdown",
   "metadata": {},
   "source": [
    "### 2.2 Rank the Countries and Companies Based on the Number of Job Postings"
   ]
  },
  {
   "cell_type": "code",
   "execution_count": 63,
   "metadata": {},
   "outputs": [
    {
     "data": {
      "text/html": [
       "<div>\n",
       "<style scoped>\n",
       "    .dataframe tbody tr th:only-of-type {\n",
       "        vertical-align: middle;\n",
       "    }\n",
       "\n",
       "    .dataframe tbody tr th {\n",
       "        vertical-align: top;\n",
       "    }\n",
       "\n",
       "    .dataframe thead th {\n",
       "        text-align: right;\n",
       "    }\n",
       "</style>\n",
       "<table border=\"1\" class=\"dataframe\">\n",
       "  <thead>\n",
       "    <tr style=\"text-align: right;\">\n",
       "      <th></th>\n",
       "      <th>SEARCH COUNTRY</th>\n",
       "      <th>COMPANY</th>\n",
       "      <th>total_job_postings</th>\n",
       "    </tr>\n",
       "  </thead>\n",
       "  <tbody>\n",
       "    <tr>\n",
       "      <th>11083</th>\n",
       "      <td>United States</td>\n",
       "      <td>Health eCareers</td>\n",
       "      <td>2799</td>\n",
       "    </tr>\n",
       "    <tr>\n",
       "      <th>12084</th>\n",
       "      <td>United States</td>\n",
       "      <td>Jobs for Humanity</td>\n",
       "      <td>1630</td>\n",
       "    </tr>\n",
       "    <tr>\n",
       "      <th>18694</th>\n",
       "      <td>United States</td>\n",
       "      <td>TravelNurseSource</td>\n",
       "      <td>1158</td>\n",
       "    </tr>\n",
       "    <tr>\n",
       "      <th>9076</th>\n",
       "      <td>United States</td>\n",
       "      <td>Dollar General</td>\n",
       "      <td>1077</td>\n",
       "    </tr>\n",
       "    <tr>\n",
       "      <th>12080</th>\n",
       "      <td>United States</td>\n",
       "      <td>Jobot</td>\n",
       "      <td>902</td>\n",
       "    </tr>\n",
       "  </tbody>\n",
       "</table>\n",
       "</div>"
      ],
      "text/plain": [
       "      SEARCH COUNTRY            COMPANY  total_job_postings\n",
       "11083  United States    Health eCareers                2799\n",
       "12084  United States  Jobs for Humanity                1630\n",
       "18694  United States  TravelNurseSource                1158\n",
       "9076   United States     Dollar General                1077\n",
       "12080  United States              Jobot                 902"
      ]
     },
     "execution_count": 63,
     "metadata": {},
     "output_type": "execute_result"
    }
   ],
   "source": [
    "# Step 2: Ranking the countries and companies based on the number of job postings\n",
    "aggregated_data_sorted = aggregated_data.sort_values(by='total_job_postings', ascending=False)\n",
    "\n",
    "# Inspecting the first few rows to check the sorted data\n",
    "aggregated_data_sorted.head()\n"
   ]
  },
  {
   "cell_type": "code",
   "execution_count": 64,
   "metadata": {},
   "outputs": [],
   "source": [
    "\n",
    "# Step 1: Analyzing the top 10 job titles\n",
    "job_titles_count = Job_Postings_df['JOB TITLE'].value_counts().head(10)\n",
    "\n",
    "# Converting the result into a DataFrame for Plotly visualization\n",
    "job_titles_df = job_titles_count.reset_index()\n",
    "job_titles_df.columns = ['Job Title', 'Number of Postings']"
   ]
  },
  {
   "cell_type": "markdown",
   "metadata": {},
   "source": [
    "### 3. GDP  GROWTH TRENDS OVER YEARS  FOR THE UK"
   ]
  },
  {
   "cell_type": "code",
   "execution_count": 65,
   "metadata": {},
   "outputs": [
    {
     "name": "stdout",
     "output_type": "stream",
     "text": [
      "['AUSTRALIA' 'CANADA' 'UNITED KINGDOM' 'UNITED STATES']\n",
      "   YEAR         VALUE\n",
      "0  1960  1.757615e+13\n",
      "1  1961  1.865807e+13\n",
      "2  1962  1.949942e+13\n",
      "3  1963  2.077487e+13\n",
      "4  1964  2.265781e+13\n"
     ]
    }
   ],
   "source": [
    "# Checking unique country values in the 'SEARCH COUNTRY' column to find any discrepancies\n",
    "print(GDP_Industry_merged['SEARCH COUNTRY'].unique())\n",
    "\n",
    "# Cleaning the country name column and checking again (strip spaces and convert to lowercase)\n",
    "GDP_Industry_merged['SEARCH COUNTRY'] = GDP_Industry_merged['SEARCH COUNTRY'].str.strip().str.lower()\n",
    "\n",
    "# Filtering for the United Kingdom (now in lowercase)\n",
    "UK_GDP = GDP_Industry_merged[GDP_Industry_merged['SEARCH COUNTRY'] == 'united kingdom']\n",
    "\n",
    "# Groupping the UK GDP data by year and sum the GDP values for each year\n",
    "UK_GDP_growth = UK_GDP.groupby('YEAR')['VALUE'].sum().reset_index()\n",
    "\n",
    "# Displaying the first few rows to check the filtered data\n",
    "print(UK_GDP_growth.head())\n"
   ]
  },
  {
   "cell_type": "code",
   "execution_count": 66,
   "metadata": {},
   "outputs": [
    {
     "name": "stdout",
     "output_type": "stream",
     "text": [
      "                                   INDUSTRY SKILL  IMPT RANK\n",
      "0                       Agriculture - Agriculture          1\n",
      "1                       Corporate Services - Xero          1\n",
      "2                          Real Estate - Lettings          1\n",
      "3                   Design - Adobe Creative Suite          1\n",
      "4                Entertainment - Music Production          1\n",
      "5             Public Safety - Military Leadership          1\n",
      "6               Education - Safeguarding Children          1\n",
      "7                            Construction - SMSTS          1\n",
      "8            Energy & Mining - Oil & Gas Industry          1\n",
      "9   Public Administration - Safeguarding Children          1\n",
      "10    Transportation & Logistics - Road Transport          1\n",
      "11               Entertainment - Music Production          1\n",
      "12                          Nonprofit - Charities          1\n",
      "13                   Finance - Financial Services          1\n",
      "14                                Arts - Fine Art          1\n",
      "15           Media & Communications - Copywriting          1\n",
      "16  Public Administration - Safeguarding Children          1\n",
      "17     Hardware & Networking - Telecommunications          1\n",
      "18                     Manufacturing - Automotive          1\n",
      "19           Energy & Mining - Oil & Gas Industry          1\n"
     ]
    }
   ],
   "source": [
    "# Filter high-importance skills from the GDP data\n",
    "UK_GDP_skills = UK_GDP[UK_GDP['HIGH IMPORTANCE'] == 'Yes']\n",
    "\n",
    "# Sort by importance rank (assuming lower rank means more important)\n",
    "UK_GDP_skills_sorted = UK_GDP_skills.sort_values(by='IMPT RANK')\n",
    "\n",
    "# Reset index to easily access country and skill\n",
    "UK_GDP_skills_sorted = UK_GDP_skills_sorted.reset_index()\n",
    "\n",
    "# Get the top 20 skills (can adjust if needed)\n",
    "top_20_uk_skills = UK_GDP_skills_sorted.head(20)\n",
    "\n",
    "# Display the top 20 demanded skills for the UK\n",
    "print(top_20_uk_skills[['INDUSTRY SKILL', 'IMPT RANK']])\n"
   ]
  },
  {
   "cell_type": "code",
   "execution_count": 67,
   "metadata": {},
   "outputs": [
    {
     "name": "stdout",
     "output_type": "stream",
     "text": [
      "                      JOB LOCATION  \\\n",
      "0  London, England, United Kingdom   \n",
      "1  London, England, United Kingdom   \n",
      "2  London, England, United Kingdom   \n",
      "3  London, England, United Kingdom   \n",
      "4  London, England, United Kingdom   \n",
      "\n",
      "                                           JOB TITLE  Job_Postings  \n",
      "0  (Global Oil Gas) Senior Process Engineer - Uti...             1  \n",
      "1  (Global Oil Gas) Senior Technical Safety Engineer             1  \n",
      "2  (Worldpay) Quality Assurance Analyst, FIS Univ...             2  \n",
      "3     ABA Supervisor - Wandsworth, South West London             1  \n",
      "4                       ABA Supervisor in London, UK             1  \n"
     ]
    }
   ],
   "source": [
    "# Filtering rows where the country is the United Kingdom\n",
    "UK_jobs = Job_Postings_df[Job_Postings_df['SEARCH COUNTRY'] == 'United Kingdom']\n",
    "\n",
    "top_locations = Job_Postings_df['JOB LOCATION'].value_counts().head(5).index\n",
    "\n",
    "# Filtering the UK_jobs dataset to only include these top locations\n",
    "top_location_jobs = UK_jobs[UK_jobs['JOB LOCATION'].isin(top_locations)]\n",
    "\n",
    "# Groupping the data by Job Location and Job Title\n",
    "location_job_titles = top_location_jobs.groupby(['JOB LOCATION', 'JOB TITLE']).size().reset_index(name='Job_Postings')\n",
    "\n",
    "# Checking the first few rows\n",
    "print(location_job_titles.head())\n"
   ]
  },
  {
   "cell_type": "markdown",
   "metadata": {},
   "source": [
    "## Data visualisation"
   ]
  },
  {
   "cell_type": "markdown",
   "metadata": {},
   "source": [
    "\n",
    "### 1. **Small Multiples for Top Demanded Skills**\n",
    "- **Description**: A `FacetGrid` plot using Seaborn to visualize top demanded skills based on **HIGH IMPORTANCE** and **IMPT RANK** across GDP-leading countries.\n",
    "- **Enhancement Suggestion**:\n",
    "  - Ensure that the `top_20_demanded_skills` DataFrame includes a column `SEARCH COUNTRY`.\n",
    "  - Verify that `col_order=top_gdp_countries` aligns with the data.\n",
    "\n",
    "---\n",
    "### 2. **Treemap of Top 40 Job Postings by Company**\n",
    "- **Description**: A `Plotly` treemap visualizes the distribution of job postings by company.\n",
    "- **Enhancement Suggestion**:\n",
    "  - Ensure that `Job_Postings_df` is appropriately grouped and sorted for `COMPANY` and `Job Postings`.\n",
    "\n",
    "---\n",
    "\n",
    "### 3. **Horizontal Bar Chart for Top 10 Job Titles**\n",
    "- **Description**: Visualizes the number of postings for top job titles using a colormap.\n",
    "- **Enhancement Suggestion**:\n",
    "  - Add annotations for exact posting counts on each bar for improved clarity.\n",
    "\n",
    "---\n",
    "\n",
    "### 4. **Line Plot of UK GDP Growth**\n",
    "- **Description**: A line chart visualizes GDP growth over time in the UK.\n",
    "- **Enhancement Suggestion**:\n",
    "  - Ensure that the x-axis ticks (`range`) align with the years present in `UK_GDP_growth['YEAR']`.\n",
    "\n",
    "---\n",
    "\n",
    "### 5. **Horizontal Bar Chart for Top 20 Skills**\n",
    "- **Description**: Visualizes the top 20 skills based on importance rank using Seaborn.\n",
    "- **Enhancement Suggestion**:\n",
    "  - Add text annotations beside each bar to display the rank for a more detailed view.\n",
    "\n",
    "---"
   ]
  },
  {
   "cell_type": "markdown",
   "metadata": {},
   "source": [
    "### 1. Visualizing Industry Growth in Top GDP Countries\n"
   ]
  },
  {
   "cell_type": "code",
   "execution_count": 68,
   "metadata": {},
   "outputs": [
    {
     "data": {
      "image/png": "[encoded data removed]",
      "text/plain": [
       "<Figure size 720x720 with 4 Axes>"
      ]
     },
     "metadata": {},
     "output_type": "display_data"
    }
   ],
   "source": [
    "import seaborn as sns\n",
    "import matplotlib.pyplot as plt\n",
    "\n",
    "# Visualization: Small multiples for top demanded skills based on HIGH IMPORTANCE and IMPT RANK in top GDP countries\n",
    "sns.set(style=\"whitegrid\")\n",
    "\n",
    "# Filtered data for the top 5 GDP countries with high importance skills\n",
    "g = sns.FacetGrid(\n",
    "    top_20_demanded_skills, \n",
    "    col=\"SEARCH COUNTRY\", \n",
    "    col_wrap=2, \n",
    "    height=5, \n",
    "    sharey=False,\n",
    "    col_order=top_gdp_countries\n",
    ")\n",
    "\n",
    "# Plot: Bar plot of top demanded skills per country based on 'IMPT RANK'\n",
    "g.map(sns.barplot, \"IMPT RANK\", \"INDUSTRY SKILL\", order=None, ci=None, color='green')\n",
    "\n",
    "# Adjustments\n",
    "g.set_titles(\"{col_name}\")\n",
    "g.set_axis_labels(\"Importance Rank\", \"Industry Skill\")\n",
    "g.fig.suptitle(\"Top Demanded Skills Based on HIGH IMPORTANCE and IMPT RANK in Top GDP Countries\")\n",
    "\n",
    "# Adjust layout\n",
    "plt.subplots_adjust(top=0.9)\n",
    "\n",
    "# Show the plot\n",
    "plt.show()"
   ]
  },
  {
   "cell_type": "markdown",
   "metadata": {},
   "source": [
    "### Result and Outcome: High-Importance Skills in Top GDP Countries\n",
    "\n",
    "- **Result**: A grid of bar plots showing the importance rank of top demanded skills across different countries with high GDP.\n",
    "\n",
    "- **Outcome**: It helps compare the skills needed in various countries and their rank in terms of importance. This visualization allows the viewer to identify skill gaps or patterns across different economies."
   ]
  },
  {
   "cell_type": "markdown",
   "metadata": {},
   "source": [
    "### 2 Visualizing Top 40 Companies with the most postings"
   ]
  },
  {
   "cell_type": "code",
   "execution_count": 81,
   "metadata": {},
   "outputs": [
    {
     "data": {
      "application/vnd.plotly.v1+json": {
       "config": {
        "plotlyServerURL": "https://plot.ly"
       },
       "data": [
        {
         "branchvalues": "total",
         "customdata": [
          [
           196
          ],
          [
           252
          ],
          [
           248
          ],
          [
           316
          ],
          [
           178
          ],
          [
           190
          ],
          [
           386
          ],
          [
           590
          ],
          [
           463
          ],
          [
           223
          ],
          [
           310
          ],
          [
           192
          ],
          [
           241
          ],
          [
           258
          ],
          [
           1084
          ],
          [
           269
          ],
          [
           568
          ],
          [
           306
          ],
          [
           250
          ],
          [
           252
          ],
          [
           573
          ],
          [
           460
          ],
          [
           283
          ],
          [
           2816
          ],
          [
           904
          ],
          [
           1663
          ],
          [
           177
          ],
          [
           761
          ],
          [
           279
          ],
          [
           164
          ],
          [
           695
          ],
          [
           190
          ],
          [
           238
          ],
          [
           228
          ],
          [
           177
          ],
          [
           271
          ],
          [
           1171
          ],
          [
           269
          ],
          [
           344
          ],
          [
           457
          ]
         ],
         "domain": {
          "x": [
           0,
           1
          ],
          "y": [
           0,
           1
          ]
         },
         "hovertemplate": "labels=%{label}<br>Job Postings_sum=%{value}<br>parent=%{parent}<br>id=%{id}<br>Job Postings=%{color}<extra></extra>",
         "ids": [
          "Actalent",
          "Aerotek",
          "AutoZone",
          "BCG Attorney Search",
          "Bob Evans Restaurants, LLC",
          "Burlington Stores, Inc.",
          "Circle K",
          "ClearanceJobs",
          "ClickJobs.io",
          "CompHealth",
          "CyberCoders",
          "Denny's",
          "Dice",
          "DocCafe",
          "Dollar General",
          "Dollar Tree Stores",
          "Energy Jobline",
          "Epic",
          "Family Dollar",
          "Fusion Medical Staffing",
          "Gotham Enterprises Ltd",
          "H&R Block",
          "HDR",
          "Health eCareers",
          "Jobot",
          "Jobs for Humanity",
          "Journeys",
          "McDonald's",
          "Michael Page",
          "Petco",
          "PracticeLink",
          "Recruiting from Scratch",
          "Robert Half",
          "Sally Beauty",
          "Stantec",
          "Texas Roadhouse",
          "TravelNurseSource",
          "U.S. Department of Veterans Affairs",
          "VolunteerMatch",
          "Walmart"
         ],
         "labels": [
          "Actalent",
          "Aerotek",
          "AutoZone",
          "BCG Attorney Search",
          "Bob Evans Restaurants, LLC",
          "Burlington Stores, Inc.",
          "Circle K",
          "ClearanceJobs",
          "ClickJobs.io",
          "CompHealth",
          "CyberCoders",
          "Denny's",
          "Dice",
          "DocCafe",
          "Dollar General",
          "Dollar Tree Stores",
          "Energy Jobline",
          "Epic",
          "Family Dollar",
          "Fusion Medical Staffing",
          "Gotham Enterprises Ltd",
          "H&R Block",
          "HDR",
          "Health eCareers",
          "Jobot",
          "Jobs for Humanity",
          "Journeys",
          "McDonald's",
          "Michael Page",
          "Petco",
          "PracticeLink",
          "Recruiting from Scratch",
          "Robert Half",
          "Sally Beauty",
          "Stantec",
          "Texas Roadhouse",
          "TravelNurseSource",
          "U.S. Department of Veterans Affairs",
          "VolunteerMatch",
          "Walmart"
         ],
         "marker": {
          "coloraxis": "coloraxis",
          "colors": [
           196,
           252,
           248,
           316,
           178,
           190,
           386,
           590,
           463,
           223,
           310,
           192,
           241,
           258,
           1084,
           269,
           568,
           306,
           250,
           252,
           573,
           460,
           283,
           2816,
           904,
           1663,
           177,
           761,
           279,
           164,
           695,
           190,
           238,
           228,
           177,
           271,
           1171,
           269,
           344,
           457
          ]
         },
         "name": "",
         "parents": [
          "",
          "",
          "",
          "",
          "",
          "",
          "",
          "",
          "",
          "",
          "",
          "",
          "",
          "",
          "",
          "",
          "",
          "",
          "",
          "",
          "",
          "",
          "",
          "",
          "",
          "",
          "",
          "",
          "",
          "",
          "",
          "",
          "",
          "",
          "",
          "",
          "",
          "",
          "",
          ""
         ],
         "type": "treemap",
         "values": [
          196,
          252,
          248,
          316,
          178,
          190,
          386,
          590,
          463,
          223,
          310,
          192,
          241,
          258,
          1084,
          269,
          568,
          306,
          250,
          252,
          573,
          460,
          283,
          2816,
          904,
          1663,
          177,
          761,
          279,
          164,
          695,
          190,
          238,
          228,
          177,
          271,
          1171,
          269,
          344,
          457
         ]
        }
       ],
       "layout": {
        "coloraxis": {
         "colorbar": {
          "title": {
           "text": "Job Postings"
          }
         },
         "colorscale": [
          [
           0,
           "#440154"
          ],
          [
           0.1111111111111111,
           "#482878"
          ],
          [
           0.2222222222222222,
           "#3e4989"
          ],
          [
           0.3333333333333333,
           "#31688e"
          ],
          [
           0.4444444444444444,
           "#26828e"
          ],
          [
           0.5555555555555556,
           "#1f9e89"
          ],
          [
           0.6666666666666666,
           "#35b779"
          ],
          [
           0.7777777777777778,
           "#6ece58"
          ],
          [
           0.8888888888888888,
           "#b5de2b"
          ],
          [
           1,
           "#fde725"
          ]
         ]
        },
        "legend": {
         "tracegroupgap": 0
        },
        "template": {
         "data": {
          "bar": [
           {
            "error_x": {
             "color": "#2a3f5f"
            },
            "error_y": {
             "color": "#2a3f5f"
            },
            "marker": {
             "line": {
              "color": "white",
              "width": 0.5
             },
             "pattern": {
              "fillmode": "overlay",
              "size": 10,
              "solidity": 0.2
             }
            },
            "type": "bar"
           }
          ],
          "barpolar": [
           {
            "marker": {
             "line": {
              "color": "white",
              "width": 0.5
             },
             "pattern": {
              "fillmode": "overlay",
              "size": 10,
              "solidity": 0.2
             }
            },
            "type": "barpolar"
           }
          ],
          "carpet": [
           {
            "aaxis": {
             "endlinecolor": "#2a3f5f",
             "gridcolor": "#C8D4E3",
             "linecolor": "#C8D4E3",
             "minorgridcolor": "#C8D4E3",
             "startlinecolor": "#2a3f5f"
            },
            "baxis": {
             "endlinecolor": "#2a3f5f",
             "gridcolor": "#C8D4E3",
             "linecolor": "#C8D4E3",
             "minorgridcolor": "#C8D4E3",
             "startlinecolor": "#2a3f5f"
            },
            "type": "carpet"
           }
          ],
          "choropleth": [
           {
            "colorbar": {
             "outlinewidth": 0,
             "ticks": ""
            },
            "type": "choropleth"
           }
          ],
          "contour": [
           {
            "colorbar": {
             "outlinewidth": 0,
             "ticks": ""
            },
            "colorscale": [
             [
              0,
              "#0d0887"
             ],
             [
              0.1111111111111111,
              "#46039f"
             ],
             [
              0.2222222222222222,
              "#7201a8"
             ],
             [
              0.3333333333333333,
              "#9c179e"
             ],
             [
              0.4444444444444444,
              "#bd3786"
             ],
             [
              0.5555555555555556,
              "#d8576b"
             ],
             [
              0.6666666666666666,
              "#ed7953"
             ],
             [
              0.7777777777777778,
              "#fb9f3a"
             ],
             [
              0.8888888888888888,
              "#fdca26"
             ],
             [
              1,
              "#f0f921"
             ]
            ],
            "type": "contour"
           }
          ],
          "contourcarpet": [
           {
            "colorbar": {
             "outlinewidth": 0,
             "ticks": ""
            },
            "type": "contourcarpet"
           }
          ],
          "heatmap": [
           {
            "colorbar": {
             "outlinewidth": 0,
             "ticks": ""
            },
            "colorscale": [
             [
              0,
              "#0d0887"
             ],
             [
              0.1111111111111111,
              "#46039f"
             ],
             [
              0.2222222222222222,
              "#7201a8"
             ],
             [
              0.3333333333333333,
              "#9c179e"
             ],
             [
              0.4444444444444444,
              "#bd3786"
             ],
             [
              0.5555555555555556,
              "#d8576b"
             ],
             [
              0.6666666666666666,
              "#ed7953"
             ],
             [
              0.7777777777777778,
              "#fb9f3a"
             ],
             [
              0.8888888888888888,
              "#fdca26"
             ],
             [
              1,
              "#f0f921"
             ]
            ],
            "type": "heatmap"
           }
          ],
          "heatmapgl": [
           {
            "colorbar": {
             "outlinewidth": 0,
             "ticks": ""
            },
            "colorscale": [
             [
              0,
              "#0d0887"
             ],
             [
              0.1111111111111111,
              "#46039f"
             ],
             [
              0.2222222222222222,
              "#7201a8"
             ],
             [
              0.3333333333333333,
              "#9c179e"
             ],
             [
              0.4444444444444444,
              "#bd3786"
             ],
             [
              0.5555555555555556,
              "#d8576b"
             ],
             [
              0.6666666666666666,
              "#ed7953"
             ],
             [
              0.7777777777777778,
              "#fb9f3a"
             ],
             [
              0.8888888888888888,
              "#fdca26"
             ],
             [
              1,
              "#f0f921"
             ]
            ],
            "type": "heatmapgl"
           }
          ],
          "histogram": [
           {
            "marker": {
             "pattern": {
              "fillmode": "overlay",
              "size": 10,
              "solidity": 0.2
             }
            },
            "type": "histogram"
           }
          ],
          "histogram2d": [
           {
            "colorbar": {
             "outlinewidth": 0,
             "ticks": ""
            },
            "colorscale": [
             [
              0,
              "#0d0887"
             ],
             [
              0.1111111111111111,
              "#46039f"
             ],
             [
              0.2222222222222222,
              "#7201a8"
             ],
             [
              0.3333333333333333,
              "#9c179e"
             ],
             [
              0.4444444444444444,
              "#bd3786"
             ],
             [
              0.5555555555555556,
              "#d8576b"
             ],
             [
              0.6666666666666666,
              "#ed7953"
             ],
             [
              0.7777777777777778,
              "#fb9f3a"
             ],
             [
              0.8888888888888888,
              "#fdca26"
             ],
             [
              1,
              "#f0f921"
             ]
            ],
            "type": "histogram2d"
           }
          ],
          "histogram2dcontour": [
           {
            "colorbar": {
             "outlinewidth": 0,
             "ticks": ""
            },
            "colorscale": [
             [
              0,
              "#0d0887"
             ],
             [
              0.1111111111111111,
              "#46039f"
             ],
             [
              0.2222222222222222,
              "#7201a8"
             ],
             [
              0.3333333333333333,
              "#9c179e"
             ],
             [
              0.4444444444444444,
              "#bd3786"
             ],
             [
              0.5555555555555556,
              "#d8576b"
             ],
             [
              0.6666666666666666,
              "#ed7953"
             ],
             [
              0.7777777777777778,
              "#fb9f3a"
             ],
             [
              0.8888888888888888,
              "#fdca26"
             ],
             [
              1,
              "#f0f921"
             ]
            ],
            "type": "histogram2dcontour"
           }
          ],
          "mesh3d": [
           {
            "colorbar": {
             "outlinewidth": 0,
             "ticks": ""
            },
            "type": "mesh3d"
           }
          ],
          "parcoords": [
           {
            "line": {
             "colorbar": {
              "outlinewidth": 0,
              "ticks": ""
             }
            },
            "type": "parcoords"
           }
          ],
          "pie": [
           {
            "automargin": true,
            "type": "pie"
           }
          ],
          "scatter": [
           {
            "marker": {
             "colorbar": {
              "outlinewidth": 0,
              "ticks": ""
             }
            },
            "type": "scatter"
           }
          ],
          "scatter3d": [
           {
            "line": {
             "colorbar": {
              "outlinewidth": 0,
              "ticks": ""
             }
            },
            "marker": {
             "colorbar": {
              "outlinewidth": 0,
              "ticks": ""
             }
            },
            "type": "scatter3d"
           }
          ],
          "scattercarpet": [
           {
            "marker": {
             "colorbar": {
              "outlinewidth": 0,
              "ticks": ""
             }
            },
            "type": "scattercarpet"
           }
          ],
          "scattergeo": [
           {
            "marker": {
             "colorbar": {
              "outlinewidth": 0,
              "ticks": ""
             }
            },
            "type": "scattergeo"
           }
          ],
          "scattergl": [
           {
            "marker": {
             "colorbar": {
              "outlinewidth": 0,
              "ticks": ""
             }
            },
            "type": "scattergl"
           }
          ],
          "scattermapbox": [
           {
            "marker": {
             "colorbar": {
              "outlinewidth": 0,
              "ticks": ""
             }
            },
            "type": "scattermapbox"
           }
          ],
          "scatterpolar": [
           {
            "marker": {
             "colorbar": {
              "outlinewidth": 0,
              "ticks": ""
             }
            },
            "type": "scatterpolar"
           }
          ],
          "scatterpolargl": [
           {
            "marker": {
             "colorbar": {
              "outlinewidth": 0,
              "ticks": ""
             }
            },
            "type": "scatterpolargl"
           }
          ],
          "scatterternary": [
           {
            "marker": {
             "colorbar": {
              "outlinewidth": 0,
              "ticks": ""
             }
            },
            "type": "scatterternary"
           }
          ],
          "surface": [
           {
            "colorbar": {
             "outlinewidth": 0,
             "ticks": ""
            },
            "colorscale": [
             [
              0,
              "#0d0887"
             ],
             [
              0.1111111111111111,
              "#46039f"
             ],
             [
              0.2222222222222222,
              "#7201a8"
             ],
             [
              0.3333333333333333,
              "#9c179e"
             ],
             [
              0.4444444444444444,
              "#bd3786"
             ],
             [
              0.5555555555555556,
              "#d8576b"
             ],
             [
              0.6666666666666666,
              "#ed7953"
             ],
             [
              0.7777777777777778,
              "#fb9f3a"
             ],
             [
              0.8888888888888888,
              "#fdca26"
             ],
             [
              1,
              "#f0f921"
             ]
            ],
            "type": "surface"
           }
          ],
          "table": [
           {
            "cells": {
             "fill": {
              "color": "#EBF0F8"
             },
             "line": {
              "color": "white"
             }
            },
            "header": {
             "fill": {
              "color": "#C8D4E3"
             },
             "line": {
              "color": "white"
             }
            },
            "type": "table"
           }
          ]
         },
         "layout": {
          "annotationdefaults": {
           "arrowcolor": "#2a3f5f",
           "arrowhead": 0,
           "arrowwidth": 1
          },
          "autotypenumbers": "strict",
          "coloraxis": {
           "colorbar": {
            "outlinewidth": 0,
            "ticks": ""
           }
          },
          "colorscale": {
           "diverging": [
            [
             0,
             "#8e0152"
            ],
            [
             0.1,
             "#c51b7d"
            ],
            [
             0.2,
             "#de77ae"
            ],
            [
             0.3,
             "#f1b6da"
            ],
            [
             0.4,
             "#fde0ef"
            ],
            [
             0.5,
             "#f7f7f7"
            ],
            [
             0.6,
             "#e6f5d0"
            ],
            [
             0.7,
             "#b8e186"
            ],
            [
             0.8,
             "#7fbc41"
            ],
            [
             0.9,
             "#4d9221"
            ],
            [
             1,
             "#276419"
            ]
           ],
           "sequential": [
            [
             0,
             "#0d0887"
            ],
            [
             0.1111111111111111,
             "#46039f"
            ],
            [
             0.2222222222222222,
             "#7201a8"
            ],
            [
             0.3333333333333333,
             "#9c179e"
            ],
            [
             0.4444444444444444,
             "#bd3786"
            ],
            [
             0.5555555555555556,
             "#d8576b"
            ],
            [
             0.6666666666666666,
             "#ed7953"
            ],
            [
             0.7777777777777778,
             "#fb9f3a"
            ],
            [
             0.8888888888888888,
             "#fdca26"
            ],
            [
             1,
             "#f0f921"
            ]
           ],
           "sequentialminus": [
            [
             0,
             "#0d0887"
            ],
            [
             0.1111111111111111,
             "#46039f"
            ],
            [
             0.2222222222222222,
             "#7201a8"
            ],
            [
             0.3333333333333333,
             "#9c179e"
            ],
            [
             0.4444444444444444,
             "#bd3786"
            ],
            [
             0.5555555555555556,
             "#d8576b"
            ],
            [
             0.6666666666666666,
             "#ed7953"
            ],
            [
             0.7777777777777778,
             "#fb9f3a"
            ],
            [
             0.8888888888888888,
             "#fdca26"
            ],
            [
             1,
             "#f0f921"
            ]
           ]
          },
          "colorway": [
           "#636efa",
           "#EF553B",
           "#00cc96",
           "#ab63fa",
           "#FFA15A",
           "#19d3f3",
           "#FF6692",
           "#B6E880",
           "#FF97FF",
           "#FECB52"
          ],
          "font": {
           "color": "#2a3f5f"
          },
          "geo": {
           "bgcolor": "white",
           "lakecolor": "white",
           "landcolor": "white",
           "showlakes": true,
           "showland": true,
           "subunitcolor": "#C8D4E3"
          },
          "hoverlabel": {
           "align": "left"
          },
          "hovermode": "closest",
          "mapbox": {
           "style": "light"
          },
          "paper_bgcolor": "white",
          "plot_bgcolor": "white",
          "polar": {
           "angularaxis": {
            "gridcolor": "#EBF0F8",
            "linecolor": "#EBF0F8",
            "ticks": ""
           },
           "bgcolor": "white",
           "radialaxis": {
            "gridcolor": "#EBF0F8",
            "linecolor": "#EBF0F8",
            "ticks": ""
           }
          },
          "scene": {
           "xaxis": {
            "backgroundcolor": "white",
            "gridcolor": "#DFE8F3",
            "gridwidth": 2,
            "linecolor": "#EBF0F8",
            "showbackground": true,
            "ticks": "",
            "zerolinecolor": "#EBF0F8"
           },
           "yaxis": {
            "backgroundcolor": "white",
            "gridcolor": "#DFE8F3",
            "gridwidth": 2,
            "linecolor": "#EBF0F8",
            "showbackground": true,
            "ticks": "",
            "zerolinecolor": "#EBF0F8"
           },
           "zaxis": {
            "backgroundcolor": "white",
            "gridcolor": "#DFE8F3",
            "gridwidth": 2,
            "linecolor": "#EBF0F8",
            "showbackground": true,
            "ticks": "",
            "zerolinecolor": "#EBF0F8"
           }
          },
          "shapedefaults": {
           "line": {
            "color": "#2a3f5f"
           }
          },
          "ternary": {
           "aaxis": {
            "gridcolor": "#DFE8F3",
            "linecolor": "#A2B1C6",
            "ticks": ""
           },
           "baxis": {
            "gridcolor": "#DFE8F3",
            "linecolor": "#A2B1C6",
            "ticks": ""
           },
           "bgcolor": "white",
           "caxis": {
            "gridcolor": "#DFE8F3",
            "linecolor": "#A2B1C6",
            "ticks": ""
           }
          },
          "title": {
           "x": 0.05
          },
          "xaxis": {
           "automargin": true,
           "gridcolor": "#EBF0F8",
           "linecolor": "#EBF0F8",
           "ticks": "",
           "title": {
            "standoff": 15
           },
           "zerolinecolor": "#EBF0F8",
           "zerolinewidth": 2
          },
          "yaxis": {
           "automargin": true,
           "gridcolor": "#EBF0F8",
           "linecolor": "#EBF0F8",
           "ticks": "",
           "title": {
            "standoff": 15
           },
           "zerolinecolor": "#EBF0F8",
           "zerolinewidth": 2
          }
         }
        },
        "title": {
         "font": {
          "size": 18
         },
         "text": "Top 40 Job Postings by Company"
        }
       }
      },
      "text/html": [
       "<div>                            <div id=\"08640ac7-e5fc-402f-b97e-b0e303224690\" class=\"plotly-graph-div\" style=\"height:525px; width:100%;\"></div>            <script type=\"text/javascript\">                require([\"plotly\"], function(Plotly) {                    window.PLOTLYENV=window.PLOTLYENV || {};                                    if (document.getElementById(\"08640ac7-e5fc-402f-b97e-b0e303224690\")) {                    Plotly.newPlot(                        \"08640ac7-e5fc-402f-b97e-b0e303224690\",                        [{\"branchvalues\":\"total\",\"customdata\":[[196.0],[252.0],[248.0],[316.0],[178.0],[190.0],[386.0],[590.0],[463.0],[223.0],[310.0],[192.0],[241.0],[258.0],[1084.0],[269.0],[568.0],[306.0],[250.0],[252.0],[573.0],[460.0],[283.0],[2816.0],[904.0],[1663.0],[177.0],[761.0],[279.0],[164.0],[695.0],[190.0],[238.0],[228.0],[177.0],[271.0],[1171.0],[269.0],[344.0],[457.0]],\"domain\":{\"x\":[0.0,1.0],\"y\":[0.0,1.0]},\"hovertemplate\":\"labels=%{label}<br>Job Postings_sum=%{value}<br>parent=%{parent}<br>id=%{id}<br>Job Postings=%{color}<extra></extra>\",\"ids\":[\"Actalent\",\"Aerotek\",\"AutoZone\",\"BCG Attorney Search\",\"Bob Evans Restaurants, LLC\",\"Burlington Stores, Inc.\",\"Circle K\",\"ClearanceJobs\",\"ClickJobs.io\",\"CompHealth\",\"CyberCoders\",\"Denny's\",\"Dice\",\"DocCafe\",\"Dollar General\",\"Dollar Tree Stores\",\"Energy Jobline\",\"Epic\",\"Family Dollar\",\"Fusion Medical Staffing\",\"Gotham Enterprises Ltd\",\"H&R Block\",\"HDR\",\"Health eCareers\",\"Jobot\",\"Jobs for Humanity\",\"Journeys\",\"McDonald's\",\"Michael Page\",\"Petco\",\"PracticeLink\",\"Recruiting from Scratch\",\"Robert Half\",\"Sally Beauty\",\"Stantec\",\"Texas Roadhouse\",\"TravelNurseSource\",\"U.S. Department of Veterans Affairs\",\"VolunteerMatch\",\"Walmart\"],\"labels\":[\"Actalent\",\"Aerotek\",\"AutoZone\",\"BCG Attorney Search\",\"Bob Evans Restaurants, LLC\",\"Burlington Stores, Inc.\",\"Circle K\",\"ClearanceJobs\",\"ClickJobs.io\",\"CompHealth\",\"CyberCoders\",\"Denny's\",\"Dice\",\"DocCafe\",\"Dollar General\",\"Dollar Tree Stores\",\"Energy Jobline\",\"Epic\",\"Family Dollar\",\"Fusion Medical Staffing\",\"Gotham Enterprises Ltd\",\"H&R Block\",\"HDR\",\"Health eCareers\",\"Jobot\",\"Jobs for Humanity\",\"Journeys\",\"McDonald's\",\"Michael Page\",\"Petco\",\"PracticeLink\",\"Recruiting from Scratch\",\"Robert Half\",\"Sally Beauty\",\"Stantec\",\"Texas Roadhouse\",\"TravelNurseSource\",\"U.S. Department of Veterans Affairs\",\"VolunteerMatch\",\"Walmart\"],\"marker\":{\"coloraxis\":\"coloraxis\",\"colors\":[196.0,252.0,248.0,316.0,178.0,190.0,386.0,590.0,463.0,223.0,310.0,192.0,241.0,258.0,1084.0,269.0,568.0,306.0,250.0,252.0,573.0,460.0,283.0,2816.0,904.0,1663.0,177.0,761.0,279.0,164.0,695.0,190.0,238.0,228.0,177.0,271.0,1171.0,269.0,344.0,457.0]},\"name\":\"\",\"parents\":[\"\",\"\",\"\",\"\",\"\",\"\",\"\",\"\",\"\",\"\",\"\",\"\",\"\",\"\",\"\",\"\",\"\",\"\",\"\",\"\",\"\",\"\",\"\",\"\",\"\",\"\",\"\",\"\",\"\",\"\",\"\",\"\",\"\",\"\",\"\",\"\",\"\",\"\",\"\",\"\"],\"values\":[196,252,248,316,178,190,386,590,463,223,310,192,241,258,1084,269,568,306,250,252,573,460,283,2816,904,1663,177,761,279,164,695,190,238,228,177,271,1171,269,344,457],\"type\":\"treemap\"}],                        {\"template\":{\"data\":{\"barpolar\":[{\"marker\":{\"line\":{\"color\":\"white\",\"width\":0.5},\"pattern\":{\"fillmode\":\"overlay\",\"size\":10,\"solidity\":0.2}},\"type\":\"barpolar\"}],\"bar\":[{\"error_x\":{\"color\":\"#2a3f5f\"},\"error_y\":{\"color\":\"#2a3f5f\"},\"marker\":{\"line\":{\"color\":\"white\",\"width\":0.5},\"pattern\":{\"fillmode\":\"overlay\",\"size\":10,\"solidity\":0.2}},\"type\":\"bar\"}],\"carpet\":[{\"aaxis\":{\"endlinecolor\":\"#2a3f5f\",\"gridcolor\":\"#C8D4E3\",\"linecolor\":\"#C8D4E3\",\"minorgridcolor\":\"#C8D4E3\",\"startlinecolor\":\"#2a3f5f\"},\"baxis\":{\"endlinecolor\":\"#2a3f5f\",\"gridcolor\":\"#C8D4E3\",\"linecolor\":\"#C8D4E3\",\"minorgridcolor\":\"#C8D4E3\",\"startlinecolor\":\"#2a3f5f\"},\"type\":\"carpet\"}],\"choropleth\":[{\"colorbar\":{\"outlinewidth\":0,\"ticks\":\"\"},\"type\":\"choropleth\"}],\"contourcarpet\":[{\"colorbar\":{\"outlinewidth\":0,\"ticks\":\"\"},\"type\":\"contourcarpet\"}],\"contour\":[{\"colorbar\":{\"outlinewidth\":0,\"ticks\":\"\"},\"colorscale\":[[0.0,\"#0d0887\"],[0.1111111111111111,\"#46039f\"],[0.2222222222222222,\"#7201a8\"],[0.3333333333333333,\"#9c179e\"],[0.4444444444444444,\"#bd3786\"],[0.5555555555555556,\"#d8576b\"],[0.6666666666666666,\"#ed7953\"],[0.7777777777777778,\"#fb9f3a\"],[0.8888888888888888,\"#fdca26\"],[1.0,\"#f0f921\"]],\"type\":\"contour\"}],\"heatmapgl\":[{\"colorbar\":{\"outlinewidth\":0,\"ticks\":\"\"},\"colorscale\":[[0.0,\"#0d0887\"],[0.1111111111111111,\"#46039f\"],[0.2222222222222222,\"#7201a8\"],[0.3333333333333333,\"#9c179e\"],[0.4444444444444444,\"#bd3786\"],[0.5555555555555556,\"#d8576b\"],[0.6666666666666666,\"#ed7953\"],[0.7777777777777778,\"#fb9f3a\"],[0.8888888888888888,\"#fdca26\"],[1.0,\"#f0f921\"]],\"type\":\"heatmapgl\"}],\"heatmap\":[{\"colorbar\":{\"outlinewidth\":0,\"ticks\":\"\"},\"colorscale\":[[0.0,\"#0d0887\"],[0.1111111111111111,\"#46039f\"],[0.2222222222222222,\"#7201a8\"],[0.3333333333333333,\"#9c179e\"],[0.4444444444444444,\"#bd3786\"],[0.5555555555555556,\"#d8576b\"],[0.6666666666666666,\"#ed7953\"],[0.7777777777777778,\"#fb9f3a\"],[0.8888888888888888,\"#fdca26\"],[1.0,\"#f0f921\"]],\"type\":\"heatmap\"}],\"histogram2dcontour\":[{\"colorbar\":{\"outlinewidth\":0,\"ticks\":\"\"},\"colorscale\":[[0.0,\"#0d0887\"],[0.1111111111111111,\"#46039f\"],[0.2222222222222222,\"#7201a8\"],[0.3333333333333333,\"#9c179e\"],[0.4444444444444444,\"#bd3786\"],[0.5555555555555556,\"#d8576b\"],[0.6666666666666666,\"#ed7953\"],[0.7777777777777778,\"#fb9f3a\"],[0.8888888888888888,\"#fdca26\"],[1.0,\"#f0f921\"]],\"type\":\"histogram2dcontour\"}],\"histogram2d\":[{\"colorbar\":{\"outlinewidth\":0,\"ticks\":\"\"},\"colorscale\":[[0.0,\"#0d0887\"],[0.1111111111111111,\"#46039f\"],[0.2222222222222222,\"#7201a8\"],[0.3333333333333333,\"#9c179e\"],[0.4444444444444444,\"#bd3786\"],[0.5555555555555556,\"#d8576b\"],[0.6666666666666666,\"#ed7953\"],[0.7777777777777778,\"#fb9f3a\"],[0.8888888888888888,\"#fdca26\"],[1.0,\"#f0f921\"]],\"type\":\"histogram2d\"}],\"histogram\":[{\"marker\":{\"pattern\":{\"fillmode\":\"overlay\",\"size\":10,\"solidity\":0.2}},\"type\":\"histogram\"}],\"mesh3d\":[{\"colorbar\":{\"outlinewidth\":0,\"ticks\":\"\"},\"type\":\"mesh3d\"}],\"parcoords\":[{\"line\":{\"colorbar\":{\"outlinewidth\":0,\"ticks\":\"\"}},\"type\":\"parcoords\"}],\"pie\":[{\"automargin\":true,\"type\":\"pie\"}],\"scatter3d\":[{\"line\":{\"colorbar\":{\"outlinewidth\":0,\"ticks\":\"\"}},\"marker\":{\"colorbar\":{\"outlinewidth\":0,\"ticks\":\"\"}},\"type\":\"scatter3d\"}],\"scattercarpet\":[{\"marker\":{\"colorbar\":{\"outlinewidth\":0,\"ticks\":\"\"}},\"type\":\"scattercarpet\"}],\"scattergeo\":[{\"marker\":{\"colorbar\":{\"outlinewidth\":0,\"ticks\":\"\"}},\"type\":\"scattergeo\"}],\"scattergl\":[{\"marker\":{\"colorbar\":{\"outlinewidth\":0,\"ticks\":\"\"}},\"type\":\"scattergl\"}],\"scattermapbox\":[{\"marker\":{\"colorbar\":{\"outlinewidth\":0,\"ticks\":\"\"}},\"type\":\"scattermapbox\"}],\"scatterpolargl\":[{\"marker\":{\"colorbar\":{\"outlinewidth\":0,\"ticks\":\"\"}},\"type\":\"scatterpolargl\"}],\"scatterpolar\":[{\"marker\":{\"colorbar\":{\"outlinewidth\":0,\"ticks\":\"\"}},\"type\":\"scatterpolar\"}],\"scatter\":[{\"marker\":{\"colorbar\":{\"outlinewidth\":0,\"ticks\":\"\"}},\"type\":\"scatter\"}],\"scatterternary\":[{\"marker\":{\"colorbar\":{\"outlinewidth\":0,\"ticks\":\"\"}},\"type\":\"scatterternary\"}],\"surface\":[{\"colorbar\":{\"outlinewidth\":0,\"ticks\":\"\"},\"colorscale\":[[0.0,\"#0d0887\"],[0.1111111111111111,\"#46039f\"],[0.2222222222222222,\"#7201a8\"],[0.3333333333333333,\"#9c179e\"],[0.4444444444444444,\"#bd3786\"],[0.5555555555555556,\"#d8576b\"],[0.6666666666666666,\"#ed7953\"],[0.7777777777777778,\"#fb9f3a\"],[0.8888888888888888,\"#fdca26\"],[1.0,\"#f0f921\"]],\"type\":\"surface\"}],\"table\":[{\"cells\":{\"fill\":{\"color\":\"#EBF0F8\"},\"line\":{\"color\":\"white\"}},\"header\":{\"fill\":{\"color\":\"#C8D4E3\"},\"line\":{\"color\":\"white\"}},\"type\":\"table\"}]},\"layout\":{\"annotationdefaults\":{\"arrowcolor\":\"#2a3f5f\",\"arrowhead\":0,\"arrowwidth\":1},\"autotypenumbers\":\"strict\",\"coloraxis\":{\"colorbar\":{\"outlinewidth\":0,\"ticks\":\"\"}},\"colorscale\":{\"diverging\":[[0,\"#8e0152\"],[0.1,\"#c51b7d\"],[0.2,\"#de77ae\"],[0.3,\"#f1b6da\"],[0.4,\"#fde0ef\"],[0.5,\"#f7f7f7\"],[0.6,\"#e6f5d0\"],[0.7,\"#b8e186\"],[0.8,\"#7fbc41\"],[0.9,\"#4d9221\"],[1,\"#276419\"]],\"sequential\":[[0.0,\"#0d0887\"],[0.1111111111111111,\"#46039f\"],[0.2222222222222222,\"#7201a8\"],[0.3333333333333333,\"#9c179e\"],[0.4444444444444444,\"#bd3786\"],[0.5555555555555556,\"#d8576b\"],[0.6666666666666666,\"#ed7953\"],[0.7777777777777778,\"#fb9f3a\"],[0.8888888888888888,\"#fdca26\"],[1.0,\"#f0f921\"]],\"sequentialminus\":[[0.0,\"#0d0887\"],[0.1111111111111111,\"#46039f\"],[0.2222222222222222,\"#7201a8\"],[0.3333333333333333,\"#9c179e\"],[0.4444444444444444,\"#bd3786\"],[0.5555555555555556,\"#d8576b\"],[0.6666666666666666,\"#ed7953\"],[0.7777777777777778,\"#fb9f3a\"],[0.8888888888888888,\"#fdca26\"],[1.0,\"#f0f921\"]]},\"colorway\":[\"#636efa\",\"#EF553B\",\"#00cc96\",\"#ab63fa\",\"#FFA15A\",\"#19d3f3\",\"#FF6692\",\"#B6E880\",\"#FF97FF\",\"#FECB52\"],\"font\":{\"color\":\"#2a3f5f\"},\"geo\":{\"bgcolor\":\"white\",\"lakecolor\":\"white\",\"landcolor\":\"white\",\"showlakes\":true,\"showland\":true,\"subunitcolor\":\"#C8D4E3\"},\"hoverlabel\":{\"align\":\"left\"},\"hovermode\":\"closest\",\"mapbox\":{\"style\":\"light\"},\"paper_bgcolor\":\"white\",\"plot_bgcolor\":\"white\",\"polar\":{\"angularaxis\":{\"gridcolor\":\"#EBF0F8\",\"linecolor\":\"#EBF0F8\",\"ticks\":\"\"},\"bgcolor\":\"white\",\"radialaxis\":{\"gridcolor\":\"#EBF0F8\",\"linecolor\":\"#EBF0F8\",\"ticks\":\"\"}},\"scene\":{\"xaxis\":{\"backgroundcolor\":\"white\",\"gridcolor\":\"#DFE8F3\",\"gridwidth\":2,\"linecolor\":\"#EBF0F8\",\"showbackground\":true,\"ticks\":\"\",\"zerolinecolor\":\"#EBF0F8\"},\"yaxis\":{\"backgroundcolor\":\"white\",\"gridcolor\":\"#DFE8F3\",\"gridwidth\":2,\"linecolor\":\"#EBF0F8\",\"showbackground\":true,\"ticks\":\"\",\"zerolinecolor\":\"#EBF0F8\"},\"zaxis\":{\"backgroundcolor\":\"white\",\"gridcolor\":\"#DFE8F3\",\"gridwidth\":2,\"linecolor\":\"#EBF0F8\",\"showbackground\":true,\"ticks\":\"\",\"zerolinecolor\":\"#EBF0F8\"}},\"shapedefaults\":{\"line\":{\"color\":\"#2a3f5f\"}},\"ternary\":{\"aaxis\":{\"gridcolor\":\"#DFE8F3\",\"linecolor\":\"#A2B1C6\",\"ticks\":\"\"},\"baxis\":{\"gridcolor\":\"#DFE8F3\",\"linecolor\":\"#A2B1C6\",\"ticks\":\"\"},\"bgcolor\":\"white\",\"caxis\":{\"gridcolor\":\"#DFE8F3\",\"linecolor\":\"#A2B1C6\",\"ticks\":\"\"}},\"title\":{\"x\":0.05},\"xaxis\":{\"automargin\":true,\"gridcolor\":\"#EBF0F8\",\"linecolor\":\"#EBF0F8\",\"ticks\":\"\",\"title\":{\"standoff\":15},\"zerolinecolor\":\"#EBF0F8\",\"zerolinewidth\":2},\"yaxis\":{\"automargin\":true,\"gridcolor\":\"#EBF0F8\",\"linecolor\":\"#EBF0F8\",\"ticks\":\"\",\"title\":{\"standoff\":15},\"zerolinecolor\":\"#EBF0F8\",\"zerolinewidth\":2}}},\"coloraxis\":{\"colorbar\":{\"title\":{\"text\":\"Job Postings\"}},\"colorscale\":[[0.0,\"#440154\"],[0.1111111111111111,\"#482878\"],[0.2222222222222222,\"#3e4989\"],[0.3333333333333333,\"#31688e\"],[0.4444444444444444,\"#26828e\"],[0.5555555555555556,\"#1f9e89\"],[0.6666666666666666,\"#35b779\"],[0.7777777777777778,\"#6ece58\"],[0.8888888888888888,\"#b5de2b\"],[1.0,\"#fde725\"]]},\"legend\":{\"tracegroupgap\":0},\"title\":{\"text\":\"Top 40 Job Postings by Company\",\"font\":{\"size\":18}}},                        {\"responsive\": true}                    ).then(function(){\n",
       "                            \n",
       "var gd = document.getElementById('08640ac7-e5fc-402f-b97e-b0e303224690');\n",
       "var x = new MutationObserver(function (mutations, observer) {{\n",
       "        var display = window.getComputedStyle(gd).display;\n",
       "        if (!display || display === 'none') {{\n",
       "            console.log([gd, 'removed!']);\n",
       "            Plotly.purge(gd);\n",
       "            observer.disconnect();\n",
       "        }}\n",
       "}});\n",
       "\n",
       "// Listen for the removal of the full notebook cells\n",
       "var notebookContainer = gd.closest('#notebook-container');\n",
       "if (notebookContainer) {{\n",
       "    x.observe(notebookContainer, {childList: true});\n",
       "}}\n",
       "\n",
       "// Listen for the clearing of the current output cell\n",
       "var outputEl = gd.closest('.output');\n",
       "if (outputEl) {{\n",
       "    x.observe(outputEl, {childList: true});\n",
       "}}\n",
       "\n",
       "                        })                };                });            </script>        </div>"
      ]
     },
     "metadata": {},
     "output_type": "display_data"
    }
   ],
   "source": [
    "import pandas as pd\n",
    "import plotly.express as px\n",
    "\n",
    "# Assuming 'Job_Postings_df' is the DataFrame with the job postings data\n",
    "# Grouping by company and counting the number of job postings\n",
    "total_job_postings_by_company = Job_Postings_df.groupby('COMPANY').size().reset_index(name='Job Postings')\n",
    "\n",
    "# Sorting by the number of job postings in descending order and selecting the top 40\n",
    "top_40_job_postings_by_company = total_job_postings_by_company.sort_values(by='Job Postings', ascending=False).head(40)\n",
    "\n",
    "# Create the Plotly treemap\n",
    "fig = px.treemap(\n",
    "    top_40_job_postings_by_company,\n",
    "    path=['COMPANY'],  # Hierarchy (one level - COMPANY)\n",
    "    values='Job Postings',  # Size of each rectangle (Job Postings)\n",
    "    title=\"Top 40 Job Postings by Company\",\n",
    "    color='Job Postings',  # Color by number of job postings\n",
    "    color_continuous_scale='Viridis'  # Use a color scale for better visuals\n",
    ")\n",
    "\n",
    "# Update layout for better presentation\n",
    "fig.update_layout(\n",
    "    title_font=dict(size=18),\n",
    "    template='plotly_white'\n",
    ")\n",
    "\n",
    "# Show the plot\n",
    "fig.show()\n"
   ]
  },
  {
   "cell_type": "markdown",
   "metadata": {},
   "source": [
    "#### Run the above code in Jupyter Notebook for the \"Top 40 Job Postings by Company\" visualization to see the interactive visual since Plotly is not visible in PDF.\n"
   ]
  },
  {
   "cell_type": "markdown",
   "metadata": {},
   "source": [
    "### Result and Outcome Treemap of Top 40 Job Postings by Company\n",
    "- **Result**: A treemap showing the distribution of job postings among the top 40 companies.\n",
    "- **Outcome**: The treemap visually highlights how job postings are distributed across companies, with larger companies showing a larger proportion of the total postings. It gives a quick, intuitive understanding of where the hiring demand is most concentrated."
   ]
  },
  {
   "cell_type": "markdown",
   "metadata": {},
   "source": [
    "#### The visualization which I used using plotly was more interactive and visually appealing. Click this link to view that : https://github.com/Prasema/Business-Analytics-Individual-A/blob/main/Treemap%20of%20companies.png"
   ]
  },
  {
   "cell_type": "markdown",
   "metadata": {},
   "source": [
    "### 3. Visualizing Top 10 Titles based on Number of Postings"
   ]
  },
  {
   "cell_type": "code",
   "execution_count": 82,
   "metadata": {},
   "outputs": [
    {
     "data": {
      "image/png": "[encoded data removed]",
      "text/plain": [
       "<Figure size 720x432 with 2 Axes>"
      ]
     },
     "metadata": {},
     "output_type": "display_data"
    }
   ],
   "source": [
    "import matplotlib.pyplot as plt\n",
    "import seaborn as sns\n",
    "import matplotlib.colors as mcolors\n",
    "\n",
    "# Set Seaborn style for better aesthetics\n",
    "sns.set(style=\"whitegrid\")\n",
    "\n",
    "# Sort the job titles dataframe by number of postings\n",
    "job_titles_df_sorted = job_titles_df.sort_values(by='Number of Postings', ascending=False).head(10)\n",
    "\n",
    "# Create a color map for the bar chart\n",
    "norm = mcolors.Normalize(vmin=job_titles_df_sorted['Number of Postings'].min(), vmax=job_titles_df_sorted['Number of Postings'].max())\n",
    "cmap = plt.cm.viridis\n",
    "\n",
    "# Plotting the horizontal bar chart using Matplotlib\n",
    "plt.figure(figsize=(10, 6))\n",
    "bars = plt.barh(job_titles_df_sorted['Job Title'], job_titles_df_sorted['Number of Postings'], \n",
    "                color=cmap(norm(job_titles_df_sorted['Number of Postings'])))\n",
    "\n",
    "# Add title and labels\n",
    "plt.title('Top 10 Job Titles based on Industry Data', fontsize=16, fontweight='bold', color='purple')\n",
    "plt.xlabel('Number of Postings', fontsize=14, fontweight='bold')\n",
    "plt.ylabel('Demanded Job Titles', fontsize=14, fontweight='bold')\n",
    "\n",
    "# Create a colorbar\n",
    "cbar = plt.colorbar(plt.cm.ScalarMappable(cmap=cmap, norm=norm), orientation='horizontal')\n",
    "cbar.set_label('Postings Count', fontsize=12)\n",
    "\n",
    "# Display the plot\n",
    "plt.tight_layout()\n",
    "plt.show()\n"
   ]
  },
  {
   "cell_type": "markdown",
   "metadata": {},
   "source": [
    "### Result and Outcome: Horizontal Bar Chart for Top 10 Job Titles\n",
    "- **Result**: A horizontal bar chart showing the top 10 job titles with the most job postings.\n",
    "- **Outcome**: This helps identify the most in-demand roles in the job market. It’s useful for both job seekers to know which roles are most sought-after and for businesses to understand key areas of talent scarcity."
   ]
  },
  {
   "cell_type": "markdown",
   "metadata": {},
   "source": [
    "### 4. Visualizing Top Demanded Skills in the UK"
   ]
  },
  {
   "cell_type": "code",
   "execution_count": 83,
   "metadata": {},
   "outputs": [
    {
     "data": {
      "image/png": "[encoded data removed]",
      "text/plain": [
       "<Figure size 720x432 with 1 Axes>"
      ]
     },
     "metadata": {},
     "output_type": "display_data"
    }
   ],
   "source": [
    "import matplotlib.pyplot as plt\n",
    "import seaborn as sns\n",
    "\n",
    "# Set Seaborn style for a cleaner look\n",
    "sns.set(style=\"whitegrid\")\n",
    "\n",
    "# Sorting top 20 skills by importance rank (assuming top_20_uk_skills is a DataFrame)\n",
    "top_20_uk_skills_sorted = top_20_uk_skills.sort_values(by='IMPT RANK')\n",
    "\n",
    "# Plotting the horizontal bar chart\n",
    "plt.figure(figsize=(10, 6))\n",
    "sns.barplot(x='IMPT RANK', y='INDUSTRY SKILL', data=top_20_uk_skills_sorted, palette='Purples')\n",
    "\n",
    "# Adding title and labels\n",
    "plt.title('Top 20 Demanded Skills in the UK', fontsize=20, fontweight='bold')\n",
    "plt.xlabel('Importance Rank', fontsize=14, fontweight='bold')\n",
    "plt.ylabel('Industry Skill', fontsize=14, fontweight='bold')\n",
    "\n",
    "# Displaying the plot\n",
    "plt.tight_layout()\n",
    "plt.show()\n"
   ]
  },
  {
   "cell_type": "markdown",
   "metadata": {},
   "source": [
    "### Result and Outcome: Horizontal Bar Chart for Top 20 Skills\n",
    "- **Result**: A horizontal bar chart displaying the top 20 skills ranked by importance.\n",
    "- **Outcome**: This helps highlight the most valuable skills in the job market in the UK and can guide both job seekers and organizations in upskilling efforts. It also indicates which skills might be critical for future employment opportunities"
   ]
  },
  {
   "cell_type": "markdown",
   "metadata": {},
   "source": [
    "## Data export"
   ]
  },
  {
   "cell_type": "code",
   "execution_count": null,
   "metadata": {},
   "outputs": [],
   "source": [
    "# Saving the cleaned and wrangled DataFrame to a new CSV file\n",
    "# Saving the cleaned Job Postings dataset\n",
    "Job_Postings_df.to_csv('Cleaned_Job_Postings.csv', index=False)\n",
    "\n",
    "# Saving the merged GDP and Industry dataset\n",
    "GDP_Industry_merged.to_csv('GDP_Industry_Merged.csv', index=False)\n"
   ]
  },
  {
   "cell_type": "markdown",
   "metadata": {},
   "source": [
    "#### Link to see the cleaned datasets\n",
    "- Dataset 1: https://raw.githubusercontent.com/Prasema/Business-Analytics-Individual-A/refs/heads/main/cleaned_job_postings.csv\n",
    "- Dataset 2: https://raw.githubusercontent.com/Prasema/Business-Analytics-Individual-A/refs/heads/main/GDP_Industry_merged.csv\n",
    "\n",
    "#### Link to see the Visualizations\n",
    "https://github.com/Prasema/Business-Analytics-Individual-A\n"
   ]
  },
  {
   "cell_type": "code",
   "execution_count": null,
   "metadata": {},
   "outputs": [],
   "source": [
    "# TODO: Ensure that you can successfully load the exported CSV file"
   ]
  },
  {
   "cell_type": "code",
   "execution_count": null,
   "metadata": {},
   "outputs": [],
   "source": [
    "# TODO: Export visualizations as image files"
   ]
  },
  {
   "cell_type": "markdown",
   "metadata": {},
   "source": [
    "## Conclusion"
   ]
  },
  {
   "cell_type": "markdown",
   "metadata": {},
   "source": [
    "This Analysis has successfully met the stated objectives and gave useful insights into the links between economic conditions, employment availability, and the changing job market.\n",
    "\n",
    "1. **GDP and Job Openings Analysis**: \n",
    "   The exploration of relationship between GDP and job listings in various countries verified the premise that higher GDP nations had more job postings. The visualisations showed the top nations with the greatest GDP, demonstrating a link between economic production and job prospects. This information can help policymakers understand the influence of national economic health on employment and help job seekers pick nations with better job prospects.\n",
    "   \n",
    "   \n",
    "   \n",
    "2. **Demanded Job Skills by Country**:\n",
    "   Demanded Job Skills by Country: We used the small multiples visualisation to look at the most in-demand skills in nations with high GDP. The investigation revealed patterns in the abilities that employers are increasingly seeking, with specific skills differing by area. The findings emphasised the significance of constantly updating skill sets, giving both job seekers and employers a full grasp of the abilities in demand worldwide. This information is critical for preparing for the labour market's dynamic character, particularly as the need for technical and specialised skills grows across industries.\n",
    "   \n",
    "   \n",
    "\n",
    "3. **Top organisations by Job listings in 2024**: \n",
    "   Bar charts and heatmaps illustrating the organisations with the most job listings indicated which large corporations would dominate the recruiting market in 2024. By identifying the top firms, we learnt which industries and sectors are growing and offering the greatest employment possibilities. This aspect of the analysis has given companies a better grasp of the competitive job market, allowing them to keep ahead of hiring trends, while also providing job searchers with valuable advice on where to focus their efforts.\n",
    "\n",
    "\n"
   ]
  },
  {
   "cell_type": "markdown",
   "metadata": {},
   "source": [
    "## References"
   ]
  },
  {
   "cell_type": "markdown",
   "metadata": {},
   "source": [
    "1. Bernard, J. (2016). Python Data Analysis with pandas. In: Python Recipes Handbook. Apress, Berkeley, CA. https://doi.org/10.1007/978-1-4842-0241-8_5\n",
    "2. https://www.ibm.com/docs/en/watson-studio-local/1.2.3?topic=notebooks-markdown-jupyter-cheatsheet\n",
    "3. L. Zhou and C. D. Hansen, \"A Survey of Colormaps in Visualization,\" in IEEE Transactions on Visualization and Computer Graphics, vol. 22, no. 8, pp. 2051-2069, 1 Aug. 2016, doi: 10.1109/TVCG.2015.2489649.\n"
   ]
  }
 ],
 "metadata": {
  "kernelspec": {
   "display_name": "Python 3 (ipykernel)",
   "language": "python",
   "name": "python3"
  },
  "language_info": {
   "codemirror_mode": {
    "name": "ipython",
    "version": 3
   },
   "file_extension": ".py",
   "mimetype": "text/x-python",
   "name": "python",
   "nbconvert_exporter": "python",
   "pygments_lexer": "ipython3",
   "version": "3.9.12"
  }
 },
 "nbformat": 4,
 "nbformat_minor": 4
}
